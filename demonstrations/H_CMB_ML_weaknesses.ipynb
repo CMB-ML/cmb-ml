{
 "cells": [
  {
   "cell_type": "markdown",
   "metadata": {},
   "source": [
    "Look... I've worked ***really*** hard on this library. All of the work has been alleviating little frustrations. I think it works pretty well now. I've written the last several notebooks with the intention of explaining how the core of CMB-ML works.\n",
    "\n",
    "But I had to make this as I was learning. I'm not a long-time coder, and I've had to take a lot of cues from the sources close at hand. So there are many aspects of this work that I developed and then was stuck with. I've invented little ways to do things and figured out work-arounds. At the core, the issues persist. I hope to remedy some of these. Others I believe may be a part of the system until a total rework.\n",
    "\n",
    "This notebook is a catalog of those. I don't think I'll publish this, but at least I've got a place to dump stuff *somewhere* as I work on producing the previous and next notebooks."
   ]
  },
  {
   "cell_type": "markdown",
   "metadata": {},
   "source": [
    "Issues:\n",
    "- Hydra\n",
    "    - No code completion for instantiate()\n",
    "    - Pipeline is... ugh.\n",
    "        - Alternative... some sort of DataClass structure?\n",
    "        - I like how succinct YAML pipelines are, but there's still a lot of repetition\n",
    "- Logging\n",
    "    - difficult to dig through\n",
    "    - so many tiny files\n",
    "        - I've considered a single archive file, but then it would be an even larger barrier to review\n",
    "- Lesser used YAMLs (e.g., scenario)\n",
    "    - Parameters end up in top level configs\n",
    "- The sheer number of executors\n",
    "- The word \"Asset\" used for both the things in an executor and the source science assets\n",
    "- Boilerplate everywhere\n",
    "- Importing AssetHandlers in order to get them recognized\n",
    "    - But I don't want to import all AssetHandlers, just the needed ones\n",
    "- Configs pulling system information"
   ]
  }
 ],
 "metadata": {
  "language_info": {
   "name": "python"
  }
 },
 "nbformat": 4,
 "nbformat_minor": 2
}
