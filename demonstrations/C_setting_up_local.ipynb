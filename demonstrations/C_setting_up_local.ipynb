{
 "cells": [
  {
   "cell_type": "markdown",
   "metadata": {},
   "source": [
    "# Setting Up Your Local System"
   ]
  },
  {
   "cell_type": "markdown",
   "metadata": {},
   "source": [
    "## Introduction"
   ]
  },
  {
   "cell_type": "markdown",
   "metadata": {},
   "source": [
    "CMB-ML manages a complex pipeline that processes data across multiple stages. Each stage produces outputs that need to be tracked, reused, and processed in later stages. Without a clear framework, this can lead to disorganized code, redundant logic, and errors.\n",
    "\n",
    "The CMB-ML library provides a set of tools to manage the pipeline in a modular and scalable way. \n",
    "\n",
    "This notebook guides you through the essential setup required to run CMB-ML locally. File locations need to be set, and critical external assets are needed. Without completing these steps, the pipeline -- and subsequent demos -- will encounter missing dependencies or misaligned file paths.\n",
    "\n",
    "The previous demonstration, [describing Hydra](./A_hydra_tutorial.ipynb), explained the configurations generally. This notebook is a practical checklist, getting everything in place. It can be skipped, but only if you aren't running code yet."
   ]
  },
  {
   "cell_type": "markdown",
   "metadata": {},
   "source": [
    "## Contents\n",
    "\n",
    "View this notebook with [nbviewer](https://nbviewer.org/github/CMB-ML/cmb-ml/tree/main/demonstrations/C_setting_up_local.ipynb#Introduction) to enable these links.\n",
    "\n",
    "- [Setting up the configuration](#Setting-the-local_system-configuration-file)\n",
    "- [Setting up PyILC](#Setting-up-PyILC)\n",
    "- [Download external science assets](#Getting-science-assets)\n",
    "- [Next steps](#Next-steps)"
   ]
  },
  {
   "cell_type": "markdown",
   "metadata": {},
   "source": [
    "# Setting Configurations"
   ]
  },
  {
   "cell_type": "markdown",
   "metadata": {},
   "source": [
    "## Your local system"
   ]
  },
  {
   "cell_type": "markdown",
   "metadata": {},
   "source": [
    "First you'll create a configuration file to say where files should be stored.\n",
    "\n",
    "I suggest using [this example](../cfg/local_system/generic_lab.yaml) as reference. Open that file and take a look. It has two keys.\n",
    "\n",
    "- `datasets_root`: This is where datasets are stored. At first this will contain, for a dataset, only the simulation and the Logs generated during simulation. As the pipeline is run, additional subfolders will be created.\n",
    "\n",
    "- `assets_dir`: This is where external science assets are stored (e.g., maps used for noise, instrument parameters, cosmological parameter distributions). The CMB-ML code will only read from this location, so it can be shared across users.\n",
    "\n",
    "Set those according to the needs of your local system in a yaml file in the local_system folder.\n",
    "\n",
    "If more granularity of file storage is needed (e.g., storing data according to faster or slower drives), this can be further customized in the pipeline yamls. Contact us and we can help to configure it."
   ]
  },
  {
   "cell_type": "markdown",
   "metadata": {},
   "source": [
    "## Specifying your local system"
   ]
  },
  {
   "cell_type": "markdown",
   "metadata": {},
   "source": [
    "You also need to let your system know where the YAML configuration file is located. This information is specified in the **top-level configurations**, such as [config_setup.yaml](../cfg/config_setup.yaml), which look like:\n",
    "\n",
    "```yaml\n",
    "defaults:\n",
    "  - local_system: ${oc.env:CMB_ML_LOCAL_SYSTEM}\n",
    "  - file_system : common_fs\n",
    "  - override hydra/job_logging: custom_log\n",
    "  - _self_\n",
    "```\n",
    "\n",
    "In this setup, \"`${oc.env:CMB_ML_LOCAL_SYSTEM}`\" tells Hydra to get the variable from your system's environment variables.\n",
    "\n",
    "There are two options to specify the path. \n",
    "\n",
    "### Option 1: Change this value directly in top-level configurations\n",
    "\n",
    "You can change `local_system: ${oc.env:CMB_ML_LOCAL_SYSTEM}` to your particular location, such as\n",
    "\n",
    "```yaml\n",
    "local_system: my_workstation\n",
    "```\n",
    "\n",
    "However, **if you do this, you will need to do this wherever there is a reference to local_system**.\n",
    "\n",
    "### Option 2: or you can set the environment variable.\n",
    "\n",
    "A more flexible option it to set an environment variable for CMB_ML_LOCAL_SYSTEM, which Hydra will read automatically. How to do this depends on your setup:\n",
    "- **In the terminal:** Run \n",
    "```bash\n",
    "export CMB_ML_LOCAL_SYSTEM=generic_lab.yaml\n",
    "```\n",
    "before calling a script. To make this automatic, add the command to your shell startup script (e.g., `.bashrc` or `.szhrc`).\n",
    "- **In jupyter notebooks**: Use the os library (currently done):\n",
    "```python\n",
    "import os\n",
    "os.environ[\"CMB_ML_LOCAL_SYSTEM\"] = \"generic_lab.yaml\"\n",
    "```\n",
    "- **In VS Code (for debugging)**: Add the environment variable to your `launch.json`:\n",
    "```json\n",
    "\"env\": {\n",
    "  \"CMB_ML_LOCAL_SYSTEM\": \"generic_lab.yaml\"\n",
    "}\n",
    "```\n",
    "Choose the option(s) that best fits your workflow. Using the environment variable approach is recommended for flexibility and maintainability."
   ]
  },
  {
   "cell_type": "markdown",
   "metadata": {},
   "source": [
    "## Checking the configuration"
   ]
  },
  {
   "cell_type": "markdown",
   "metadata": {},
   "source": [
    "Set this up now for both your local system configuration and [config_setup.yaml](../cfg/config_setup.yaml). Let's see how it looks. If you aren't using an environment variable, you can remove that line."
   ]
  },
  {
   "cell_type": "code",
   "execution_count": 4,
   "metadata": {},
   "outputs": [],
   "source": [
    "import os\n",
    "from pathlib import Path\n",
    "import hydra\n",
    "from hydra import compose, initialize\n",
    "from omegaconf import OmegaConf\n",
    "\n",
    "# Set the environment variable, only effective for this notebook.\n",
    "# Remove the next line if preferred\n",
    "os.environ['CMB_ML_LOCAL_SYSTEM'] = 'generic_lab'"
   ]
  },
  {
   "cell_type": "code",
   "execution_count": 5,
   "metadata": {},
   "outputs": [
    {
     "name": "stdout",
     "output_type": "stream",
     "text": [
      "local_system:\n",
      "  datasets_root: /data/jim/CMB_Data/Datasets2/\n",
      "  assets_dir: /data/jim/CMB_Data/Assets2/\n",
      "\n",
      "\n",
      "/data/jim/CMB_Data/Datasets2 exists: True\n",
      "/data/jim/CMB_Data/Assets2 exists: True\n"
     ]
    }
   ],
   "source": [
    "# Clear any previous hydra instance to prevent conflicts\n",
    "hydra.core.global_hydra.GlobalHydra.instance().clear()\n",
    "\n",
    "# Initialize hydra with the configuration directory\n",
    "with initialize(version_base=None, config_path=\"../cfg\"):\n",
    "    cfg = compose(config_name='config_setup.yaml',\n",
    "                  overrides=[\"~file_system\"])\n",
    "\n",
    "print(OmegaConf.to_yaml(cfg))\n",
    "\n",
    "print()\n",
    "ds_root = Path(cfg.local_system.datasets_root)\n",
    "assets_root = Path(cfg.local_system.assets_dir)\n",
    "print(f\"{ds_root} exists: {ds_root.exists()}\")\n",
    "print(f\"{assets_root} exists: {assets_root.exists()}\")"
   ]
  },
  {
   "cell_type": "markdown",
   "metadata": {},
   "source": [
    "If everything is set up correctly, the printed paths should match what you expect. If not, double-check your YAML and environment variables.\n",
    "\n",
    "If the directories do not exist, they should be created."
   ]
  },
  {
   "cell_type": "code",
   "execution_count": 6,
   "metadata": {},
   "outputs": [],
   "source": [
    "# Uncomment the next lines to create those directories\n",
    "# ds_root.mkdir(parents=True, exist_ok=True)\n",
    "# assets_root.mkdir(parents=True, exist_ok=True)"
   ]
  },
  {
   "cell_type": "markdown",
   "metadata": {},
   "source": [
    "# Moving CMB-ML Assets"
   ]
  },
  {
   "cell_type": "markdown",
   "metadata": {},
   "source": [
    "Some files are included in this repository. One (`cmb-ml_deltabandpass.tbl`) describes the simplified instrumentation we model in our simulations. The README gives a description of it. The others, beginning with `upload_records_` has the information needed to download the available datasets.\n",
    "\n",
    "They need to be moved to the directory specified in your `local_system` for assets. \n",
    "\n",
    "1. Navigate to the **assets** folder in the base directory of this repository. \n",
    "2. Copy the **CMB-ML** folder to the **assets directory** specified in `local_system`.\n",
    "\n",
    "After moving the files, the structure of that folder should be:\n",
    "\n",
    "```\n",
    "└─ Assets\n",
    "   └─ CMB-ML\n",
    "      ├─ cmb-ml_deltabandpass.tbl\n",
    "      ├─ README.txt\n",
    "      ├─ upload_records_I_128_1450.json\n",
    "      └─ upload_records_I_512_1450.json\n",
    "```\n",
    "\n",
    "Later in this notebook, folders for **Planck** folder and **WMAP** will be created and added."
   ]
  },
  {
   "cell_type": "markdown",
   "metadata": {},
   "source": [
    "# Setting up PyILC"
   ]
  },
  {
   "cell_type": "markdown",
   "metadata": {},
   "source": [
    "PyILC is used as a baseline method for cleaning observation maps. Please check out their work at [PyILC on GitHub](https://github.com/jcolinhill/pyilc). As of December, 2024, PyILC isn't structured as an installable library. I've settled on a workaround of importing the necessary elements in a CMB-ML module so it can be used without modification or unnecessary duplication of effort.\n",
    "\n",
    "This may not be ideal and I'm open to feedback.\n",
    "\n",
    "## Step 1: Clone PyILC\n",
    "Skip ahead if you're comfortable with this.\n",
    "\n",
    "Navigate to where you want to put the PyILC code. Assuming your file structure is something like\n",
    "```\n",
    "└─ home\n",
    "   └─ code\n",
    "      ├─ cmb-ml\n",
    "      |     └─ all this stuff\n",
    "      ├─ other-repo\n",
    "```\n",
    "I suggest:\n",
    "```bash\n",
    "cd /home/code\n",
    "git clone https://github.com/jcolinhill/pyilc.git \n",
    "```\n",
    "which will install it where \"other-repo\" is. I do not suggest installing it within `home/code/cmb-ml` to prevent confusion with `.git`.\n",
    "\n",
    "## Step 2: Edit the redirection module\n",
    "\n",
    "Within the CMB-ML repository, open (cmbml/pyilc_redir/__init__.py)[./cmbml/pyilc_redir/__init__.py]. Edit the path to match the location where you've installed PyILC, specifically `input.py` and `wavelets.py`.\n",
    "\n",
    "After the edits (assuming the example above), it should look like:\n",
    "```\n",
    "import sys\n",
    "sys.path.append('/home/code/pyilc/pyilc')\n",
    "\n",
    "from input import ILCInfo\n",
    "from wavelets import Wavelets, wavelet_ILC, harmonic_ILC\n",
    "```\n",
    "\n",
    "Note the double \"pyilc\" at the end.\n",
    "\n",
    "## Why?\n",
    "\n",
    "This isn't ideal, and I don't recommend this practice in general as it may cause security vulnerabilities or path conflicts. However, for now, it's the most practical way to integrate PyILC into CMB-ML. If you have suggestions for a better approach, I'd love to hear them."
   ]
  },
  {
   "cell_type": "markdown",
   "metadata": {},
   "source": [
    "# Getting science assets\n",
    "\n",
    "<!-- We now need to get either:\n",
    "- All science assets for running simulations\n",
    "- Just the asset containing the mask used for analysis -->"
   ]
  },
  {
   "cell_type": "markdown",
   "metadata": {},
   "source": [
    "CMB-ML needs to use files for "
   ]
  },
  {
   "cell_type": "markdown",
   "metadata": {},
   "source": [
    "## All Science Assets"
   ]
  },
  {
   "cell_type": "markdown",
   "metadata": {},
   "source": [
    "The easiest method is the simplest: run [the get_data/get_assets.py](../get_data/get_assets.py) script. This will download from the ESA's Planck Legacy Archive and from NASA's LAMBDA Archive. Downloads may be slow.\n",
    "\n",
    "<!-- There is also a CMB-ML data mirror for these files, but links are not currently available. Please contact us through the GitHub repository and they will be re-enabled. -->"
   ]
  },
  {
   "cell_type": "markdown",
   "metadata": {},
   "source": [
    "## Assorted Assets"
   ]
  },
  {
   "cell_type": "markdown",
   "metadata": {},
   "source": [
    "If you prefer not using the script, individual files are available from the source.\n",
    "\n",
    "\n",
    "Planck files should go into the `Assets/Planck` folder (or whatever is specified in your `local_system` YAML). Similarly, WMAP files should go into `Assets/WMAP`.\n",
    "\n",
    "- Planck Maps\n",
    "    - [Planck Collaboration Observation at 30 GHz](https://irsa.ipac.caltech.edu/data/Planck/release_3/all-sky-maps/maps/LFI_SkyMap_030-BPassCorrected_1024_R3.00_full.fits)\n",
    "    - [Planck Collaboration Observation at 44 GHz](https://irsa.ipac.caltech.edu/data/Planck/release_3/all-sky-maps/maps/LFI_SkyMap_044-BPassCorrected_1024_R3.00_full.fits)\n",
    "    - [Planck Collaboration Observation at 70 GHz](https://irsa.ipac.caltech.edu/data/Planck/release_3/all-sky-maps/maps/LFI_SkyMap_070-BPassCorrected_1024_R3.00_full.fits)\n",
    "    - [Planck Collaboration Observation at 100 GHz](https://irsa.ipac.caltech.edu/data/Planck/release_3/all-sky-maps/maps/HFI_SkyMap_100_2048_R3.01_full.fits)\n",
    "    - [Planck Collaboration Observation at 143 GHz](https://irsa.ipac.caltech.edu/data/Planck/release_3/all-sky-maps/maps/HFI_SkyMap_143_2048_R3.01_full.fits)\n",
    "    - [Planck Collaboration Observation at 217 GHz](https://irsa.ipac.caltech.edu/data/Planck/release_3/all-sky-maps/maps/HFI_SkyMap_217_2048_R3.01_full.fits)\n",
    "    - [Planck Collaboration Observation at 353 GHz](https://irsa.ipac.caltech.edu/data/Planck/release_3/all-sky-maps/maps/HFI_SkyMap_353-psb_2048_R3.01_full.fits)\n",
    "    - [Planck Collaboration Observation at 545 GHz](https://irsa.ipac.caltech.edu/data/Planck/release_3/all-sky-maps/maps/HFI_SkyMap_545_2048_R3.01_full.fits)\n",
    "    - [Planck Collaboration Observation at 847 GHz](https://irsa.ipac.caltech.edu/data/Planck/release_3/all-sky-maps/maps/HFI_SkyMap_857_2048_R3.01_full.fits)\n",
    "    - [Planck Collaboration NILC-cleaned Map](https://irsa.ipac.caltech.edu/data/Planck/release_3/all-sky-maps/maps/component-maps/cmb/COM_CMB_IQU-nilc_2048_R3.00_full.fits)\n",
    "- Others\n",
    "    - [WMAP9 Chains, direct download](https://lambda.gsfc.nasa.gov/data/map/dr5/dcp/chains/wmap_lcdm_mnu_wmap9_chains_v5.tar.gz)\n",
    "    - [Planck delta bandpass table, from Simons Observatory](https://github.com/galsci/mapsims/raw/main/mapsims/data/planck_deltabandpass/planck_deltabandpass.tbl)\n",
    "    - [Original delta bandpass table, from Simons Observatory](assets/delta_bandpasses/CMB-ML/cmb-ml_deltabandpass.tbl)\n",
    "\n",
    "\n"
   ]
  },
  {
   "cell_type": "markdown",
   "metadata": {},
   "source": [
    "# Next steps"
   ]
  },
  {
   "cell_type": "markdown",
   "metadata": {},
   "source": [
    "Your system is now set up to use CMB-ML.\n",
    "\n",
    "Next, we'll look at a couple simulations to better understand the data, in [the next demonstration notebook](./D_first_look_at_sims.ipynb).\n",
    "\n",
    "When you're ready, either [download simulations](../get_data/get_dataset.py) or [create simulations](../main_sims.py).\n",
    "\n",
    "There are also optional demonstration notebooks if you intend to write code using CMB-ML, starting with [a description of the CMB-ML framework](./E_CMB_ML_framework.ipynb)."
   ]
  }
 ],
 "metadata": {
  "kernelspec": {
   "display_name": "cmb-ml2",
   "language": "python",
   "name": "python3"
  },
  "language_info": {
   "codemirror_mode": {
    "name": "ipython",
    "version": 3
   },
   "file_extension": ".py",
   "mimetype": "text/x-python",
   "name": "python",
   "nbconvert_exporter": "python",
   "pygments_lexer": "ipython3",
   "version": "3.9.21"
  }
 },
 "nbformat": 4,
 "nbformat_minor": 2
}
