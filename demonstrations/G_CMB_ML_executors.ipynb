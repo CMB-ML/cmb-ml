{
 "cells": [
  {
   "cell_type": "markdown",
   "metadata": {},
   "source": [
    "# Introduction"
   ]
  },
  {
   "cell_type": "markdown",
   "metadata": {},
   "source": [
    "It was a bit difficult to explain any of them outside the context of others. Now that they've been explained [for single stages](demonstrations/E_CMB_ML_framework.ipynb) and [for the whole pipeline](demonstrations/F_CMB_ML_pipeline.ipynb) I can illustrate how I use them with less worry about overwhelming the reader.\n",
    "\n",
    "In this notebook, I want to tackle multiple simulations and splits. This should:\n",
    "- Drive home the advantage of using Assets with path_templates\n",
    "- Introduce the `Split` object\n",
    "- Show a few different structures for Executors\n",
    "- Point out a few other practices that I think are good <!--PLEASE GIVE FEEDBACK ON THIS. I'M MAKING THIS UP. I'M A CHILD LOST IN THE WOODS-->\n",
    "\n",
    "I'll cover three different Executors, which differ in how they process multiple simulations:\n",
    "- [A simple Executor](#serially-iterating-executor) that iterates slowly (relatively)\n",
    "- An Executor that uses multiprocessing to iterate quickly\n",
    "- An Executor that sets up and uses a PyTorch DataLoader"
   ]
  },
  {
   "cell_type": "markdown",
   "metadata": {},
   "source": [
    "## Example"
   ]
  },
  {
   "cell_type": "markdown",
   "metadata": {},
   "source": [
    "In this notebook, I'll continue with the example of wanting to convert a power spectrum into a map. But this time, I'll consider that there's a single power spectrum and produce many realizations for hypothetical Training, Validation, and Test splits. (This is likely contrived. Some independent variable is needed so that a network is trained to prediction something, but this suffices for now.)"
   ]
  },
  {
   "cell_type": "markdown",
   "metadata": {},
   "source": [
    "# Set-Up"
   ]
  },
  {
   "cell_type": "markdown",
   "metadata": {},
   "source": [
    "I have to again set a few things up so that the CMB-ML framework plays nice with Jupyter."
   ]
  },
  {
   "cell_type": "code",
   "execution_count": 1,
   "metadata": {},
   "outputs": [],
   "source": [
    "# Ignore this cell. \n",
    "# It's needed for the notebook to work, not something to learn.\n",
    "\n",
    "import sys\n",
    "import os\n",
    "\n",
    "# Set the local_system\n",
    "os.environ[\"CMB_ML_LOCAL_SYSTEM\"] = \"generic_lab\"\n",
    "\n",
    "# Add the path to the parent directory so I can import cmb-ml\n",
    "repo_root = os.path.abspath(os.path.join(os.getcwd(), \"..\"))\n",
    "sys.path.insert(0, repo_root)"
   ]
  },
  {
   "cell_type": "code",
   "execution_count": 2,
   "metadata": {},
   "outputs": [],
   "source": [
    "import logging\n",
    "from hydra import compose, initialize\n",
    "import numpy as np\n",
    "import healpy as hp\n",
    "\n",
    "from cmbml.core import BaseStageExecutor, Asset\n",
    "from cmbml.core.asset_handlers import TextPowerSpectrum, HealpyMap"
   ]
  },
  {
   "cell_type": "code",
   "execution_count": 3,
   "metadata": {},
   "outputs": [],
   "source": [
    "logger = logging.getLogger(\"F_Tutorial\")\n",
    "logger.setLevel(logging.DEBUG)\n",
    "\n",
    "# Outside of a notebook, Hydra will handle the logging. \n",
    "handler = logging.StreamHandler()  # StreamHandler sends logs to sys.stdout by default\n",
    "handler.setLevel(logging.DEBUG)\n",
    "logger.addHandler(handler)"
   ]
  },
  {
   "cell_type": "code",
   "execution_count": 4,
   "metadata": {},
   "outputs": [],
   "source": [
    "from omegaconf import OmegaConf\n",
    "from hydra.core.hydra_config import HydraConfig\n",
    "\n",
    "with initialize(version_base=None, config_path=\"../cfg\"):\n",
    "    cfg = compose(config_name=\"config_demoG_framework\")"
   ]
  },
  {
   "cell_type": "markdown",
   "metadata": {},
   "source": [
    "# Basic Executor"
   ]
  },
  {
   "cell_type": "markdown",
   "metadata": {},
   "source": [
    "I'll use the basic Executor "
   ]
  },
  {
   "cell_type": "code",
   "execution_count": 9,
   "metadata": {},
   "outputs": [],
   "source": [
    "class MakePSExecutor(BaseStageExecutor):\n",
    "    def __init__(self, cfg):\n",
    "        super().__init__(cfg, stage_str=\"ps_setup\")\n",
    "\n",
    "        self.out_cmb_ps: Asset = self.assets_out[\"cmb_ps\"]\n",
    "        # I note the handler for assets. When using an IDE, this makes\n",
    "        #   it easier to navigate to the handler's code.\n",
    "        out_cmb_ps_handler: TextPowerSpectrum\n",
    "\n",
    "        # The config file has a list of values for \n",
    "        self.ps_model = cfg.model.ps\n",
    "\n",
    "    def execute(self):\n",
    "        ell = np.arange(200)\n",
    "        # This is a naive model for the CMB power spectrum.\n",
    "        #   It's just a polynomial fit up to ell=200 for the \n",
    "        #   Planck 2018 power spectrum.\n",
    "        ps = np.poly1d(self.ps_model)\n",
    "        self.out_cmb_ps.write(data=ps(ell))\n",
    "        logger.info(f\"CMB power spectrum written to {self.out_cmb_ps.path}\")"
   ]
  },
  {
   "cell_type": "markdown",
   "metadata": {},
   "source": [
    "# Serially Iterating Executor"
   ]
  },
  {
   "cell_type": "markdown",
   "metadata": {},
   "source": [
    "The simplest form for an Executor will simply iterate in a naive way."
   ]
  },
  {
   "cell_type": "markdown",
   "metadata": {},
   "source": [
    "It's seldom the case that I need to think too much about my Namer object, other than to `set_context()` or `set_contexts()`. However, there's a few important points to keep in mind:\n",
    "- Define templates clearly: Use meaningful and consistent placeholders in your YAML configuration.\n",
    "- Update context carefully: Ensure the Namer’s context is set correctly before accessing file paths.\n",
    "- Set context before descending: When iterating over splits or simulations, use set_context() before calling an inner loop. For example:\n",
    "\n",
    "```python\n",
    "  def execute(self):\n",
    "    for split in self.splits:\n",
    "      with self.name_tracker.set_context('split', split.name):\n",
    "        self.process_split(split)\n",
    "```\n",
    "\n",
    "This practice simply helps simplify indentation."
   ]
  },
  {
   "cell_type": "code",
   "execution_count": null,
   "metadata": {},
   "outputs": [],
   "source": []
  }
 ],
 "metadata": {
  "kernelspec": {
   "display_name": "cmb-ml2",
   "language": "python",
   "name": "python3"
  },
  "language_info": {
   "codemirror_mode": {
    "name": "ipython",
    "version": 3
   },
   "file_extension": ".py",
   "mimetype": "text/x-python",
   "name": "python",
   "nbconvert_exporter": "python",
   "pygments_lexer": "ipython3",
   "version": "3.9.21"
  }
 },
 "nbformat": 4,
 "nbformat_minor": 2
}
