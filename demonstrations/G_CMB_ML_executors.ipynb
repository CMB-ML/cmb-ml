{
 "cells": [
  {
   "cell_type": "markdown",
   "metadata": {},
   "source": [
    "# CMB-ML Framework: Executors"
   ]
  },
  {
   "cell_type": "markdown",
   "metadata": {},
   "source": [
    "# Introduction"
   ]
  },
  {
   "cell_type": "markdown",
   "metadata": {},
   "source": [
    "CMB-ML manages a complex pipeline that processes data across multiple stages. Each stage produces outputs that need to be tracked, reused, and processed in later stages. Without a clear framework, this can lead to disorganized code, redundant logic, and errors.\n",
    "\n",
    "The CMB-ML library provides a set of tools to manage these pipelines in a modular way. Each tool focuses on a specific task, such as handling data files, managing file paths, or defining pipeline stages. Together, they simplify building and maintaining complex workflows.\n",
    "\n",
    "In previous notebooks the [elements of an Executor](./E_CMB_ML_framework.ipynb) and [assembly of Executors](./F_CMB_ML_pipeline.ipynb) were described. The example stages were very simple - they ingested a single input and produced a single output. A primary motivation of the CMB-ML library is to handle multiple simulations, which requires going beyond that basic pattern. In this notebook, I illustrate how that can be done.\n",
    "\n",
    "There are several different ways to structure an Executor, depending on the type of processing performed in the current stage. Those stages and some examples for each are:\n",
    "- Basic Executors, appropriate when outputting a single instance\n",
    "    - A global output, used across all simulations\n",
    "    - A check of configuration parameters (during setup)\n",
    "    - Summarizing data across all simulations (at the end of Analysis)\n",
    "- Serially Iterating Executors, conceptually easy, though possibly inefficient\n",
    "    - Processes that use outside libraries which already use multiple threads\n",
    "    - Processes that are only run a small number of times, like creating result figures\n",
    "- Parallel Iterating Executors, are a bit more complicated but much faster\n",
    "    - Processes which are individually simple, using only a single thread\n",
    "- PyTorch-centric Executors, when using PyTorch Datasets and DataLoaders\n",
    "- Matplotlib-centric Executors, when displaying results\n",
    "\n",
    "This notebook also serves to illustrate different stages in the pipeline YAML and different ways that `Asset`s are used.\n",
    "\n",
    "**Note**: This is a **very long notebook**. It serves as a collection of ideas and in-depth examples that didn't quite fit into the previous, introductory notebooks. Don’t feel pressured to go through it all in one sitting. Skim through the sections and revisit them as needed."
   ]
  },
  {
   "cell_type": "markdown",
   "metadata": {},
   "source": [
    "## Example"
   ]
  },
  {
   "cell_type": "markdown",
   "metadata": {},
   "source": [
    "In this notebook, I'll continue with the example of converting a power spectrum into a map. I'll consider a series of stages to create and preprocess some \"CMB\" maps. Those stages are to:\n",
    "- Produce a power spectrum\n",
    "- Produce maps from the spectrum, divided into multiple simulations and multiple splits\n",
    "- Determine global minimum and maximum values across maps in two of the splits (e.g., when the Test split should be blind)\n",
    "- Preprocess (MinMax Scale) maps\n",
    "\n",
    "This is a contrived example. It should give a reasonable overview of different techniques. At the end I'll point out some other examples in the wild.\n",
    "\n",
    "Two datasets are created as examples. The first is only 9 maps at $\\textrm{N}_\\textrm{side}=32$, taking up 1.7 MB (\"Dataset_32\"). The other contains 120 maps at $\\textrm{N}_\\textrm{side}=256$, taking up 1.6 GB (\"Dataset_256\"). There is no utility in that data beyond the demonstrations here (you can safely delete them)."
   ]
  },
  {
   "cell_type": "markdown",
   "metadata": {},
   "source": [
    "## Contents"
   ]
  },
  {
   "cell_type": "markdown",
   "metadata": {},
   "source": [
    "View this notebook with [nbviewer](https://nbviewer.org/github/CMB-ML/cmb-ml/tree/main/demonstrations/G_CMB_ML_executors.ipynb) (or in your IDE) to enable these links.\n",
    "\n",
    "This notebook has these preliminary sections:\n",
    "- [Example](#Example) (above)\n",
    "- [Set-Up](#Set-up)\n",
    "- [Dataset Splits](#Dataset-splits) (introducing the `Split` object)\n",
    "\n",
    "Then each of the patterns will be illustrated with a different stage of the pipeline\n",
    "\n",
    "- Produce a power spectrum: [Basic Executor](#basic)\n",
    "- Produce CMB maps from spectra: [Serial Iteration Executor](#Serially-iterating-executor-converting-a-spectrum-to-map-realizations)\n",
    "- Determine global minimum and maximum values: [Parallel Iteration Executor](#Parallel-iteration-executor-determining-global-statistics)\n",
    "- Preprocessing maps: [PyTorch Dataset-centered Executor](#PyTorch-Dataset-centric-Executor)\n",
    "\n",
    "Then all stages are used together as a [single pipeline](#Full-pipeline).\n",
    "\n",
    "In the [Conclusion](#Conclusion) I provide links to examples of these executors in the modules for PyILC, cmbNNCS, and the Patch NN methods."
   ]
  },
  {
   "cell_type": "markdown",
   "metadata": {},
   "source": [
    "## Set-up"
   ]
  },
  {
   "cell_type": "markdown",
   "metadata": {},
   "source": [
    "I have to again set a few things up so that the CMB-ML framework plays nice with Jupyter."
   ]
  },
  {
   "cell_type": "code",
   "execution_count": 1,
   "metadata": {},
   "outputs": [],
   "source": [
    "# Ignore this cell. \n",
    "# It's needed for the notebook to work, not something to learn.\n",
    "\n",
    "import sys\n",
    "import os\n",
    "\n",
    "# Set the local_system\n",
    "os.environ[\"CMB_ML_LOCAL_SYSTEM\"] = \"generic_lab\"\n",
    "\n",
    "# Add the path to the parent directory so I can import cmb-ml\n",
    "repo_root = os.path.abspath(os.path.join(os.getcwd(), \"..\"))\n",
    "sys.path.insert(0, repo_root)"
   ]
  },
  {
   "cell_type": "code",
   "execution_count": 2,
   "metadata": {},
   "outputs": [],
   "source": [
    "import logging\n",
    "import numpy as np\n",
    "import healpy as hp\n",
    "\n",
    "from cmbml.core import PipelineContext\n",
    "from cmbml.core import BaseStageExecutor, Asset\n",
    "from cmbml.core.asset_handlers import TextPowerSpectrum, HealpyMap, Config"
   ]
  },
  {
   "cell_type": "code",
   "execution_count": 3,
   "metadata": {},
   "outputs": [],
   "source": [
    "logger = logging.getLogger(\"F_Tutorial\")\n",
    "logger.setLevel(logging.DEBUG)\n",
    "\n",
    "# Outside of a notebook, Hydra will handle the logging. \n",
    "handler = logging.StreamHandler()  # StreamHandler sends logs to sys.stdout by default\n",
    "handler.setLevel(logging.DEBUG)\n",
    "logger.addHandler(handler)"
   ]
  },
  {
   "cell_type": "code",
   "execution_count": 4,
   "metadata": {},
   "outputs": [],
   "source": [
    "from omegaconf import OmegaConf\n",
    "from hydra.core.hydra_config import HydraConfig\n",
    "from hydra import compose, initialize\n",
    "\n",
    "# There are better ways to do this outside of notebooks.\n",
    "with initialize(version_base=None, config_path=\"../cfg\"):\n",
    "    cfg = compose(config_name=\"config_demoG_executors\", return_hydra_config=True)\n",
    "    HydraConfig.instance().set_config(cfg)"
   ]
  },
  {
   "cell_type": "markdown",
   "metadata": {},
   "source": [
    "I will also be using astropy units. This allows tracking of temperature units: e.g., $\\mu\\textrm{K}_\\textrm{CMB}$, or $\\textrm{K}_\\textrm{RJ}$, or $\\textrm{MJy}/\\textrm{sr}$."
   ]
  },
  {
   "cell_type": "code",
   "execution_count": 5,
   "metadata": {},
   "outputs": [],
   "source": [
    "import pysm3.units as u"
   ]
  },
  {
   "cell_type": "markdown",
   "metadata": {},
   "source": [
    "# Dataset splits\n"
   ]
  },
  {
   "cell_type": "markdown",
   "metadata": {},
   "source": [
    "## YAML Configuration"
   ]
  },
  {
   "cell_type": "markdown",
   "metadata": {},
   "source": [
    "The CMB-ML dataset is split into Training, Validation, and Test subsets. The size of each split is set in a [split.yaml](../cfg/splits/3-3.yaml) configuration file (there are many). For instance,"
   ]
  },
  {
   "cell_type": "code",
   "execution_count": 6,
   "metadata": {},
   "outputs": [
    {
     "name": "stdout",
     "output_type": "stream",
     "text": [
      "name: 3-3\n",
      "Train:\n",
      "  n_sims: 3\n",
      "Valid:\n",
      "  n_sims: 3\n",
      "  n_sims_cap: ${n_infer_cap}\n",
      "Test:\n",
      "  n_sims: 3\n",
      "  n_sims_cap: ${n_infer_cap}\n",
      "run_inference_on: ${run_inference_on}\n",
      "\n"
     ]
    }
   ],
   "source": [
    "print(OmegaConf.to_yaml(cfg.splits))"
   ]
  },
  {
   "cell_type": "markdown",
   "metadata": {},
   "source": [
    "- `name`: The name of the splits is used for dataset names\n",
    "  - For small, debugging, splits I will use 3-3 to mean three splits with three simulations each.\n",
    "  - For larger, more practical, splits I will use the total number of simulations (e.g., 1450 or 2450)\n",
    "- `Train` / `Valid` / `Test`: The name of a split\n",
    "  - CMB-ML can also use `Test1`, `Test2`, etc., if different test distributions are to be examined\n",
    "  - Use of other split names would need to be matched elsewhere in configurations an possibly in Python\n",
    "- `n_sims`: The total number of simultions in this split\n",
    "- `n_sims_cap`: When debugging, it is faster to run inference on a portion of the dataset only. This key enables that.\n",
    "  - `${n_infer_cap}` causes Hydra to interpolate the value (get it from elsewhere). In this case, it will look for `n_infer_cap` in the top level configuration. This is a shortcut I use so that the parameter can be in the correct place in the configuration YAMLs, but I can change it more easily at a single location.\n",
    "- `run_inference_on`: Whether to run Prediction (and later) stages on \"Test\" or \"Valid\" data. I try to use \"Test\" only for final runs, and \"Validation\" while developing.\n",
    "  - Again, this parameter is set at the top level, but I believe it \"belongs\" here. When I need to use it, I refer to `cfg.splits.run_inference_on`, and not the top-level `cfg.run_inference_on`."
   ]
  },
  {
   "cell_type": "markdown",
   "metadata": {},
   "source": [
    "Some stages of the pipeline may only apply to certain splits. For instance, when predicting results, I don't need to run on the training datasplit. In this case, the [patch_nn pipeline YAML](../cfg/pipeline/pipe_model_patch_nn.yaml) has a key to note this:\n",
    "```yaml\n",
    "    predict: &final_inference\n",
    "      assets_out:\n",
    "        cmb_map: \n",
    "          handler: HealpyMap\n",
    "          path_template: \"{root}/{dataset}/{working}{stage}/{split}/{sim}/cmb_map_pred_{epoch}.fits\"\n",
    "      assets_in:\n",
    "        obs_maps: {stage: make_sims}\n",
    "        lut: {stage: make_lut}\n",
    "        dataset_stats: {stage: get_dataset_stats}\n",
    "        model: {stage: train}\n",
    "      splits:\n",
    "        - ${splits.run_inference_on}\n",
    "      epochs: ${use_epochs}\n",
    "      dir_name: PatchNN_F_Predict\n",
    "      make_stage_log: True\n",
    "```\n",
    "\n",
    "The lines\n",
    "```yaml\n",
    "      splits:\n",
    "        - ${splits.run_inference_on}\n",
    "```\n",
    "tell the Executor to only run on the split marked that way in the splits YAML.\n",
    "\n",
    "Similar patterns can be seen elsewhere. For instance, the preprocessing stage for the [patch_nn pipeline](../cfg/pipeline/pipe_model_patch_nn.yaml) is only applied to the Training and Validation datasplits; in this particular case, preprocessing of the Test datasplit occurs during inference."
   ]
  },
  {
   "cell_type": "markdown",
   "metadata": {},
   "source": [
    "## `Split` object"
   ]
  },
  {
   "cell_type": "markdown",
   "metadata": {},
   "source": [
    "To handle splits within executors, we have the `Split` class. An instance of this class is created for each split. It retains the name and number of simulations. It could be extended to track additional variables. It has a method, `iter_sims()` that produces an iterator over all simulations within the split (referring to each simulation as an integer index):\n",
    "\n",
    "<!-- Generally, splitting of a dataset is done by producing one full dataset and randomly assigning elements to the different splits. The current system does this in effect, because it draws each simulation at random from a hypothetical source distribution. I do generate them pre-labelled into a category, but this is immaterial. -->\n",
    "\n",
    "<!-- When the project was started, I wanted to investigate the impact of different distributions on both training and inference.\n",
    "This may be picked up again in the future. \n",
    "There are vestiges of this intention in the code, such as the ps_fidu_fixed parameter within a split. This would enable me to use a set of simulations with a single fiducial power spectrum, checking where a trained model struggles. -->"
   ]
  },
  {
   "cell_type": "code",
   "execution_count": 7,
   "metadata": {},
   "outputs": [
    {
     "name": "stdout",
     "output_type": "stream",
     "text": [
      "Split name: Train\n",
      "Number of sims: 3. \n",
      "They are: \n",
      "   0\n",
      "   1\n",
      "   2\n"
     ]
    }
   ],
   "source": [
    "from cmbml.core import Split\n",
    "\n",
    "split = Split(\"Train\", cfg.splits.Train)\n",
    "print(f\"Split name: {split.name}\")\n",
    "print(f\"Number of sims: {split.n_sims}. \\nThey are: \")\n",
    "for s in split.iter_sims():\n",
    "    print(f\"{s:>4}\")\n",
    "del s, split"
   ]
  },
  {
   "cell_type": "markdown",
   "metadata": {},
   "source": [
    "<a id=\"basic\"></a>\n",
    "# Basic Executor: making a power spectrum"
   ]
  },
  {
   "cell_type": "markdown",
   "metadata": {},
   "source": [
    "The first stage in this demonstration pipeline will produce a single power spectrum and save it to disk.\n",
    "\n",
    "I start with the definition of the stage in the pipeline YAML. In this case, it's the same as was done previously:"
   ]
  },
  {
   "cell_type": "code",
   "execution_count": 8,
   "metadata": {},
   "outputs": [
    {
     "name": "stdout",
     "output_type": "stream",
     "text": [
      "assets_out:\n",
      "  cmb_ps:\n",
      "    handler: TextPowerSpectrum\n",
      "    path_template: '{root}/{dataset}/{stage}/cmb_dummy_ps.fits'\n",
      "dir_name: A_PS_Setup\n",
      "\n"
     ]
    }
   ],
   "source": [
    "print(OmegaConf.to_yaml(cfg.pipeline.ps_setup))"
   ]
  },
  {
   "cell_type": "markdown",
   "metadata": {},
   "source": [
    "I've made some adjustments from the [previous version](F_CMB_ML_pipeline.ipynb#set-up) of this executor:"
   ]
  },
  {
   "cell_type": "code",
   "execution_count": 9,
   "metadata": {},
   "outputs": [],
   "source": [
    "class MakePSExecutor(BaseStageExecutor):\n",
    "    def __init__(self, cfg):\n",
    "        super().__init__(cfg, stage_str=\"ps_setup\")\n",
    "\n",
    "        self.out_cmb_ps: Asset = self.assets_out[\"cmb_ps\"]\n",
    "        out_cmb_ps_handler: TextPowerSpectrum  # Reference to the handler\n",
    "\n",
    "        # \"Power spectrum model\" as a parameter\n",
    "        self.ps_model = cfg.model.ps\n",
    "        self.ells = cfg.model.max_ell\n",
    "\n",
    "    def execute(self):\n",
    "        # The following logging line is always used at the start of an execute() method:\n",
    "        logger.debug(f\"Running {self.__class__.__name__} execute()\")\n",
    "\n",
    "        ell = np.arange(self.ells)\n",
    "        # Create the power spectrum from the model\n",
    "        ps = np.poly1d(self.ps_model)\n",
    "        self.out_cmb_ps.write(data=ps(ell))\n",
    "        logger.debug(f\"CMB power spectrum written to {self.out_cmb_ps.path}\")"
   ]
  },
  {
   "cell_type": "markdown",
   "metadata": {},
   "source": [
    "One change is to include a reference to the handler used for the asset. The line:\n",
    "```python\n",
    "        out_cmb_ps_handler: TextPowerSpectrum\n",
    "```\n",
    "doesn't have any impact on the way the code runs. Python sees that the variable is never used, so there's only negligible computational cost to including it. However, it has a huge benefit to me as I write an Executor: I can very quickly find the code for this particular AssetHandler using my IDE. <!-- This pattern has a huge flaw: duplication. There's NOTHING that forces the handler listed to match the one in the config file. I have ideas for better solutions to this, but haven't implemented any. This reflects a short-coming of using Hydra, since the class of the asset handler isn't in a form IDE's currently recognize -->\n",
    "\n",
    "In this case, I'm getting the power spectrum as a polynomial model fit to a small range of the data. Previously, those were hard-coded values. Here, I've removed the hard-coding. This gives me more flexibility. Instead, the spectrum is included as a parameter from the configuration file $^\\dagger$. \n",
    "\n",
    "$^\\dagger$<sub>This is not the correct way to generate a power spectrum, it's just what's suitable for a small demonstration. Also, the model is more \"data\" than a \"parameter\"; hard-coding it into the configuration isn't the best idea. Instead, I'd prefer to save it to a text file and use an Asset to manage the values. That makes this more extensible. </sub>"
   ]
  },
  {
   "cell_type": "markdown",
   "metadata": {},
   "source": [
    "When creating executors I strive to **set variables in the `__init__`** method, pulling values from the configurations. \n",
    "\n",
    "Early on when I was putting together CMB-ML, I simply had\n",
    "```python\n",
    "        self.cfg = cfg  # Do not do this!\n",
    "```\n",
    "in my executors. This defers pulling what I need from the configurations until the `execute()` function. It seems simpler, but really bit me when a reference to the configuration was incorrect (e.g. \"cfg.model.power_spectrum\" instead of \"cfg.ps_model\"). That would cause the executor to crash. Instead, by setting class variables for everything I need in the `__init__()` method, I fail faster during `prerun_pipeline()` and simplify debugging. <!-- ideally, I would take this to a next level, and have more extensive validation of the Hydra configs -->"
   ]
  },
  {
   "cell_type": "markdown",
   "metadata": {},
   "source": [
    "I've also added the use of `logger`. I try to use it sparingly."
   ]
  },
  {
   "cell_type": "markdown",
   "metadata": {},
   "source": [
    "I check each stage to ensure they work individually. When I do this, I use small scale (debugging) settings so it can test the code more quickly. The current configuration, for example, has this running for only three simulations per split, and at a low $\\textrm{N}_\\textrm{side}=32$.\n",
    "\n",
    "The following cell runs the executor alone and works for notebooks. When developing Python modules, I usually use my top-level script and comment or un-comment the appropriate executors."
   ]
  },
  {
   "cell_type": "code",
   "execution_count": 10,
   "metadata": {},
   "outputs": [
    {
     "name": "stderr",
     "output_type": "stream",
     "text": [
      "Running MakePSExecutor execute()\n",
      "CMB power spectrum written to /data/jim/CMB_Data/Datasets2/DemoNotebook_32/A_PS_Setup/cmb_dummy_ps.fits\n"
     ]
    }
   ],
   "source": [
    "executor = MakePSExecutor(cfg)\n",
    "executor.execute()"
   ]
  },
  {
   "cell_type": "markdown",
   "metadata": {},
   "source": [
    "I now have a power spectrum and can move on to the next stage."
   ]
  },
  {
   "cell_type": "markdown",
   "metadata": {},
   "source": [
    "# Serially iterating Executor: converting a spectrum to map realizations"
   ]
  },
  {
   "cell_type": "markdown",
   "metadata": {},
   "source": [
    "Now I need to create many map realizations using the previously created spectrum. This is similar to what was done in the [previous notebook](demonstrations/E_CMB_ML_framework.ipynb), but now it is being done for many simulations across datasplits."
   ]
  },
  {
   "cell_type": "markdown",
   "metadata": {},
   "source": [
    "## Configuration YAML"
   ]
  },
  {
   "cell_type": "markdown",
   "metadata": {},
   "source": [
    "I start with my pipeline configuration. What's going in and out of the stage?"
   ]
  },
  {
   "cell_type": "markdown",
   "metadata": {},
   "source": [
    "The [first pipeline YAML](../cfg/config_demoE_framework.yaml) had the following:\n",
    "```yaml\n",
    "    ps2map:\n",
    "      assets_out:\n",
    "        cmb_map:\n",
    "          handler: HealpyMap\n",
    "          path_template: \"{root}/{dataset}/{stage}/cmb_dummy_map.fits\"\n",
    "      assets_in:\n",
    "        cmb_ps: {stage: ps_setup}\n",
    "      dir_name: B_CMB_Map\n",
    "```"
   ]
  },
  {
   "cell_type": "markdown",
   "metadata": {},
   "source": [
    "The new pipeline YAML has this, instead:\n",
    "```yaml\n",
    "    ps2map:\n",
    "      assets_out:\n",
    "        cmb_map:\n",
    "          handler: HealpyMap\n",
    "          path_template: \"{root}/{dataset}/{stage}/{split}/{sim}/cmb_map.fits\"\n",
    "      assets_in:\n",
    "        cmb_ps: {stage: ps_setup}\n",
    "      dir_name: B_CMB_Map\n",
    "      splits:\n",
    "        - train\n",
    "        - valid\n",
    "        - test\n",
    "```\n",
    "Note that the changes are minimal:\n",
    "- The `path_template` has changed so that filepaths include the names of the split and simulation. \n",
    "- I define which splits are operated upon.\n",
    "\n",
    "Returning to the question \"What's going in and out of this stage?\", I see that it's the exact same thing as before, which explains why the changes to the pipeline YAML are minimal."
   ]
  },
  {
   "cell_type": "markdown",
   "metadata": {},
   "source": [
    "## Executor"
   ]
  },
  {
   "cell_type": "markdown",
   "metadata": {},
   "source": [
    "More changes are needed in Python. Recall the previous version of the Executor:\n",
    "\n",
    "```python\n",
    "    class PS2MapExecutor(BaseStageExecutor):\n",
    "        def __init__(self, cfg) -> None:\n",
    "            super().__init__(cfg, stage_str=\"ps2map\")\n",
    "\n",
    "            self.out_map_asset = self.assets_out[\"cmb_map\"]\n",
    "            self.in_ps_asset = self.assets_in[\"cmb_ps\"]\n",
    "\n",
    "        def execute(self) -> None:\n",
    "            ps = self.in_ps_asset.read()\n",
    "            print(f\"Power spectrum read from {self.out_map_asset.path}\")\n",
    "            cmb = hp.synfast(ps, nside=256)\n",
    "            self.out_map_asset.write(data=cmb)\n",
    "            print(f\"Map written to {self.out_map_asset.path}\")\n",
    "            return\n",
    "```\n",
    "\n",
    "This produced a single output map."
   ]
  },
  {
   "cell_type": "markdown",
   "metadata": {},
   "source": [
    "To produce many maps, the simplest way to structure the Executor is serial iteration. That is to use nested for-loops:"
   ]
  },
  {
   "cell_type": "code",
   "execution_count": 11,
   "metadata": {},
   "outputs": [],
   "source": [
    "class PS2MapExecutor(BaseStageExecutor):\n",
    "    def __init__(self, cfg) -> None:\n",
    "        super().__init__(cfg, stage_str=\"ps2map\")\n",
    "\n",
    "        self.out_map_asset = self.assets_out[\"cmb_map\"]\n",
    "        out_map_handler: HealpyMap  # Specify handler\n",
    "\n",
    "        self.in_ps_asset = self.assets_in[\"cmb_ps\"]\n",
    "        in_ps_handler: TextPowerSpectrum\n",
    "\n",
    "        self.nside = cfg.nside\n",
    "        # Set aside a placeholder for the power spectrum\n",
    "        self.ps = None\n",
    "\n",
    "    def execute(self) -> None:\n",
    "        logger.debug(f\"Running {self.__class__.__name__} execute()\")\n",
    "        # Load the power spectrum, just once\n",
    "        self.ps = self.in_ps_asset.read()\n",
    "        logger.debug(f\"Power spectrum read from {self.in_ps_asset.path}\")\n",
    "\n",
    "        for split in self.splits:\n",
    "            logger.debug(f\"Working on split {split.name}\")\n",
    "            with self.name_tracker.set_context(\"split\", split.name):\n",
    "                self.process_split(split)\n",
    "\n",
    "    def process_split(self, split):\n",
    "        for sim_num in split.iter_sims():\n",
    "            logger.debug(f\"Working on sim {sim_num:04d}\")\n",
    "            with self.name_tracker.set_context(\"sim_num\", sim_num):\n",
    "                self.process_sim()\n",
    "\n",
    "    def process_sim(self):\n",
    "        cmb = hp.synfast(self.ps, nside=cfg.nside)\n",
    "        cmb = cmb * u.uK_CMB\n",
    "        self.out_map_asset.write(data=cmb)\n",
    "        logger.debug(f\"Map written to {self.out_map_asset.path}\")\n",
    "        return"
   ]
  },
  {
   "cell_type": "markdown",
   "metadata": {},
   "source": [
    "The changes:\n",
    "- Handlers for input and output Assets are specified.\n",
    "- `self.ps` is created and set to None in the `__init__()` method.\n",
    "  - Creating new instance variables outside of initialization is poor practice.\n",
    "  - I don't load the data during initialization; reading data (especially maps) will slow down the `pipeline_prerun()`.\n",
    "- The power spectrum is read at the start of `execute()`. \n",
    "  - It's the same data for all simulations; I don't want to read it multiple times\n",
    "  - I wait until execution to read data from files <!-- I do kind of want to check for file existence when possible... but that's something for another day. When creating the input Assets in the base executor... I think I check each asset to see if the path exists. Most require a reference to a {split} or {sim} or whatever, so I'd wrap it in a try: block and pass on exceptions where the key doesn't exist... -->\n",
    "- The main body of `execute()` is a loop over all splits.\n",
    "  - The splits were automatically set up by the base class.\n",
    "- A `process_split()` method does all work required for a split.\n",
    "  - This is a simple case, so only iteration over simulations is needed.\n",
    "  - There are cases where special processing is needed per split.\n",
    "- A `process_sim()` method does the work for each simulation, in the same way as was done originally.\n",
    "- `logger.debug()` is used.\n",
    "  - It is overused here, only for demonstration purposes. I try to avoid putting too much into the console and logs. In the slowest stages, I'm more likely to use it per simulation; other times only per split. In very fast stages, I do not use it other than at the entrance to `execute()`.\n",
    "\n",
    "In general, I enter a context right after the for-loop, outside the following method. This way, the method can remain ignorant of the wider context; this reduces parameters passed and tidies the code."
   ]
  },
  {
   "cell_type": "markdown",
   "metadata": {},
   "source": [
    "Now I can run this Executor."
   ]
  },
  {
   "cell_type": "code",
   "execution_count": 12,
   "metadata": {},
   "outputs": [
    {
     "name": "stderr",
     "output_type": "stream",
     "text": [
      "Running PS2MapExecutor execute()\n",
      "Power spectrum read from /data/jim/CMB_Data/Datasets2/DemoNotebook_32/A_PS_Setup/cmb_dummy_ps.fits\n",
      "Working on split Train\n",
      "Working on sim 0000\n",
      "Map written to /data/jim/CMB_Data/Datasets2/DemoNotebook_32/B_CMB_Map/Train/sim0000/cmb_map.fits\n",
      "Working on sim 0001\n",
      "Map written to /data/jim/CMB_Data/Datasets2/DemoNotebook_32/B_CMB_Map/Train/sim0001/cmb_map.fits\n",
      "Working on sim 0002\n",
      "Map written to /data/jim/CMB_Data/Datasets2/DemoNotebook_32/B_CMB_Map/Train/sim0002/cmb_map.fits\n",
      "Working on split Valid\n",
      "Working on sim 0000\n",
      "Map written to /data/jim/CMB_Data/Datasets2/DemoNotebook_32/B_CMB_Map/Valid/sim0000/cmb_map.fits\n",
      "Working on sim 0001\n",
      "Map written to /data/jim/CMB_Data/Datasets2/DemoNotebook_32/B_CMB_Map/Valid/sim0001/cmb_map.fits\n",
      "Working on sim 0002\n",
      "Map written to /data/jim/CMB_Data/Datasets2/DemoNotebook_32/B_CMB_Map/Valid/sim0002/cmb_map.fits\n",
      "Working on split Test\n",
      "Working on sim 0000\n",
      "Map written to /data/jim/CMB_Data/Datasets2/DemoNotebook_32/B_CMB_Map/Test/sim0000/cmb_map.fits\n",
      "Working on sim 0001\n",
      "Map written to /data/jim/CMB_Data/Datasets2/DemoNotebook_32/B_CMB_Map/Test/sim0001/cmb_map.fits\n",
      "Working on sim 0002\n",
      "Map written to /data/jim/CMB_Data/Datasets2/DemoNotebook_32/B_CMB_Map/Test/sim0002/cmb_map.fits\n"
     ]
    }
   ],
   "source": [
    "pe = PS2MapExecutor(cfg)\n",
    "pe.execute()"
   ]
  },
  {
   "cell_type": "markdown",
   "metadata": {},
   "source": [
    "I now have several realizations of maps."
   ]
  },
  {
   "cell_type": "markdown",
   "metadata": {},
   "source": [
    "# Parallel iteration Executor: determining global statistics"
   ]
  },
  {
   "cell_type": "markdown",
   "metadata": {},
   "source": [
    "For the next stage, I need to find the minimum and maximum values across all simulations. Since the dataset is large (or, let's pretend it is), I don't want to load all simulations into a single large array. Instead, an Executor can load each map, scan it, and output a YAML file with the values.\n",
    "\n",
    "In this section, I'll show how this could be done with serial iteration as a comparison."
   ]
  },
  {
   "cell_type": "markdown",
   "metadata": {},
   "source": [
    "## Configuration YAML"
   ]
  },
  {
   "cell_type": "markdown",
   "metadata": {},
   "source": [
    "The YAML for this stage of the pipeline should seem straightforward:"
   ]
  },
  {
   "cell_type": "code",
   "execution_count": 13,
   "metadata": {},
   "outputs": [
    {
     "name": "stdout",
     "output_type": "stream",
     "text": [
      "assets_out:\n",
      "  cmb_map_min_max:\n",
      "    handler: Config\n",
      "    path_template: '{root}/{dataset}/{stage}/cmb_min_max.yaml'\n",
      "assets_in:\n",
      "  cmb_map:\n",
      "    stage: ps2map\n",
      "dir_name: C_Map_Min_Max\n",
      "splits:\n",
      "- train\n",
      "- valid\n",
      "make_stage_log: false\n",
      "\n"
     ]
    }
   ],
   "source": [
    "print(OmegaConf.to_yaml(cfg.pipeline.get_map_min_max))"
   ]
  },
  {
   "cell_type": "markdown",
   "metadata": {},
   "source": [
    "I'm only operating on the Training and Validation datasplits. This is mostly for demonstration reasons, to show how to handle stages which only apply so a subset of the data splits."
   ]
  },
  {
   "cell_type": "markdown",
   "metadata": {},
   "source": [
    "Instead of the extensive logging shown in the previous executor, I'm going to use `tqdm` to show progress. I'm careful when I use tqdm to change my logging output, since otherwise the console becomes cluttered."
   ]
  },
  {
   "cell_type": "code",
   "execution_count": 14,
   "metadata": {},
   "outputs": [],
   "source": [
    "from tqdm import tqdm"
   ]
  },
  {
   "cell_type": "markdown",
   "metadata": {},
   "source": [
    "## Sidebar: Scanning Serially"
   ]
  },
  {
   "cell_type": "markdown",
   "metadata": {},
   "source": [
    "I'll put together two alternatives. The first follows the same structure as the Serial Executor."
   ]
  },
  {
   "cell_type": "code",
   "execution_count": 15,
   "metadata": {},
   "outputs": [],
   "source": [
    "class SerialFindStatsExecutor(BaseStageExecutor):\n",
    "    def __init__(self, cfg) -> None:\n",
    "        super().__init__(cfg, stage_str=\"get_map_min_max\")\n",
    "\n",
    "        self.out_min_max_asset = self.assets_out[\"cmb_map_min_max\"]\n",
    "        out_min_max_handler: Config\n",
    "\n",
    "        self.in_map_asset = self.assets_in[\"cmb_map\"]\n",
    "        in_map_handler: HealpyMap  # Specify handler\n",
    "\n",
    "        # Set aside a placeholder for the power spectrum\n",
    "        self.extremes = dict(vmin=None, vmax=None)\n",
    "\n",
    "    def execute(self) -> None:\n",
    "        logger.debug(f\"Running {self.__class__.__name__} execute()\")\n",
    "        # Load the power spectrum, just once\n",
    "        for split in self.splits:\n",
    "            with self.name_tracker.set_context(\"split\", split.name):\n",
    "                self.process_split(split)\n",
    "        self.out_min_max_asset.write(data=self.extremes)\n",
    "        logger.debug(f\"Map min/max written to {self.out_min_max_asset.path}\")\n",
    "\n",
    "    def process_split(self, split):\n",
    "        for sim_num in tqdm(split.iter_sims()):\n",
    "            with self.name_tracker.set_context(\"sim_num\", sim_num):\n",
    "                self.process_sim()\n",
    "\n",
    "    def process_sim(self):\n",
    "        cmb_map = self.in_map_asset.read()\n",
    "        vmin, vmax = cmb_map.min(), cmb_map.max()\n",
    "        if self.extremes[\"vmin\"] is None:\n",
    "            self.extremes[\"vmin\"] = vmin\n",
    "            self.extremes[\"vmax\"] = vmax\n",
    "        self.extremes[\"vmax\"] = max(self.extremes[\"vmax\"], vmax)\n",
    "        self.extremes[\"vmin\"] = min(self.extremes[\"vmin\"], vmin)"
   ]
  },
  {
   "cell_type": "markdown",
   "metadata": {},
   "source": [
    "I can now run that to collect the values:"
   ]
  },
  {
   "cell_type": "code",
   "execution_count": 16,
   "metadata": {},
   "outputs": [
    {
     "name": "stderr",
     "output_type": "stream",
     "text": [
      "Running SerialFindStatsExecutor execute()\n",
      "100%|██████████| 3/3 [00:00<00:00, 84.74it/s]\n",
      "100%|██████████| 3/3 [00:00<00:00, 140.77it/s]\n",
      "Map min/max written to /data/jim/CMB_Data/Datasets2/DemoNotebook_32/C_Map_Min_Max/cmb_min_max.yaml\n"
     ]
    }
   ],
   "source": [
    "executor = SerialFindStatsExecutor(cfg)\n",
    "executor.execute()"
   ]
  },
  {
   "cell_type": "markdown",
   "metadata": {},
   "source": [
    "I'll check what I got:"
   ]
  },
  {
   "cell_type": "code",
   "execution_count": 17,
   "metadata": {},
   "outputs": [
    {
     "data": {
      "text/plain": [
       "{'vmax': <Quantity 4618.14739663 uK_CMB>,\n",
       " 'vmin': <Quantity -4752.7736399 uK_CMB>}"
      ]
     },
     "execution_count": 17,
     "metadata": {},
     "output_type": "execute_result"
    }
   ],
   "source": [
    "mm_path = executor.out_min_max_asset.path\n",
    "min_max = Config().read(mm_path)\n",
    "min_max  # These values are suspiciously large, the physics may be wrong here"
   ]
  },
  {
   "cell_type": "markdown",
   "metadata": {},
   "source": [
    "This is great, but if I run it with more larger scale maps, it will take quite a while. Since the operations occur in a single thread, I can speed this up greatly."
   ]
  },
  {
   "cell_type": "markdown",
   "metadata": {},
   "source": [
    "## Parallel Execution with Multiprocessing"
   ]
  },
  {
   "cell_type": "markdown",
   "metadata": {},
   "source": [
    "This may not be the best way, but I've found a method using `multiprocessing`. I'm open to suggestions for better patterns.\n",
    "\n",
    "The `multiprocessing` library allows me to set up worker tasks that handle simple operations in parallel, as long they don't need to access shared memory. Unfortunately, the Namer is stateful, and thus my `in_map_asset.path` property is a single location in memory, so it makes setting up worker tasks a little more difficult.\n",
    "\n",
    "Conceptually, the task of processing an individual map is very simple. I load the map as a numpy array and get the min() and max(). Once I have those for each individual simulation, I can easily get the global minimum and maximum.\n",
    "\n",
    "Here's how I get around the Namer issue: I make an *immutable* object that defines the task per simulation. Then I can instantiate such objects for all simulations. With these, I can use a multiprocessing `Pool` to run them, storing results for each in a `Manager.list`. When all the tasks are done, I aggregate the results.\n",
    "\n",
    "Note that this works for some statistics only, others would require additional iterations or more creative solutions."
   ]
  },
  {
   "cell_type": "markdown",
   "metadata": {},
   "source": [
    "First, I define two helper classes which will make up my \"task\", both of which are immutable NamedTuples. The `FrozenAsset` is a drop-in replacement for an Asset. The `TaskTarget` refers to the asset and labels the individual simulation.\n",
    "\n",
    "Having the `FrozenAsset` separate isn't critical, it just simplifies tasks that involve multiple Assets."
   ]
  },
  {
   "cell_type": "code",
   "execution_count": 18,
   "metadata": {},
   "outputs": [],
   "source": [
    "from typing import NamedTuple\n",
    "from pathlib import Path\n",
    "\n",
    "from cmbml.core import GenericHandler\n",
    "\n",
    "class FrozenAsset(NamedTuple):\n",
    "    path: Path\n",
    "    handler: GenericHandler\n",
    "\n",
    "class TaskTarget(NamedTuple):\n",
    "    cmb_asset: FrozenAsset\n",
    "    split_name: str\n",
    "    sim_num: str"
   ]
  },
  {
   "cell_type": "markdown",
   "metadata": {},
   "source": [
    "For demonstration purposes, I'm going to just define the start of the Executor here, and build it out across a few code cells. At the end, there's a final version with everything in one place.\n",
    "\n",
    "The initialization method is mostly the same, the only changes are:\n",
    "- adding a number of workers (concurrent threads)\n",
    "- adding (temporary) placeholders for static methods\n",
    "\n",
    "The `execute()` function does the process described above:\n",
    "- creates the tasks\n",
    "- tries one task\n",
    "- runs all tasks and collects results\n",
    "- aggregates the results\n",
    "- saves the final statistics"
   ]
  },
  {
   "cell_type": "code",
   "execution_count": 19,
   "metadata": {},
   "outputs": [],
   "source": [
    "class ParallelFindStatsExecutor(BaseStageExecutor):\n",
    "    def __init__(self, cfg) -> None:\n",
    "        super().__init__(cfg, stage_str=\"get_map_min_max\")\n",
    "\n",
    "        self.out_min_max_asset = self.assets_out[\"cmb_map_min_max\"]\n",
    "        out_min_max_handler: Config\n",
    "\n",
    "        self.in_map_asset = self.assets_in[\"cmb_map\"]\n",
    "        in_map_handler: HealpyMap  # Specify handler\n",
    "\n",
    "        self.n_workers = cfg.n_workers\n",
    "        self.scale_scan_method = None\n",
    "        self.scale_sift_method = None\n",
    "\n",
    "    def execute(self) -> None:\n",
    "        logger.debug(f\"Running {self.__class__.__name__} execute().\")\n",
    "        # Tasks are items on a to-do list\n",
    "        #   For each simulation, we compare the prediction and target\n",
    "        #   A task contains labels, file names, and handlers for each sim\n",
    "        tasks = self.build_tasks()\n",
    "\n",
    "        # Run a single task outside multiprocessing to catch issues quickly.\n",
    "        self.try_a_task(self.scale_scan_method, tasks[0])\n",
    "\n",
    "        results_list = self.run_all_tasks(self.scale_scan_method, tasks)\n",
    "\n",
    "        results_summary = self.scale_sift_method(results_list)\n",
    "\n",
    "        self.out_min_max_asset.write(data=results_summary)"
   ]
  },
  {
   "cell_type": "markdown",
   "metadata": {},
   "source": [
    "In the following `build_tasks()`, I build out all the tasks, iterating over simulations.\n",
    "\n",
    "I convert the `in_map_asset` to a `FrozenAsset`. If the process required multiple assets, I'd have multiple `FrozenAsset`s. Then I can create and append the `TaskTarget` to the list of tasks.\n",
    "\n",
    "Also, notice that `set_contexts()` to set multiple things at the same time in my name_tracker. This has nothing to do with multi-processing, but it's difficult to concoct a demonstration of this in other contexts, so enjoy the rare show."
   ]
  },
  {
   "cell_type": "code",
   "execution_count": 20,
   "metadata": {},
   "outputs": [],
   "source": [
    "def build_tasks(self):\n",
    "    tasks = []\n",
    "    for split in self.splits:\n",
    "        for sim in split.iter_sims():\n",
    "            context = dict(split=split.name, sim_num=sim)\n",
    "            with self.name_tracker.set_contexts(contexts_dict=context):\n",
    "                cmb = self.in_map_asset\n",
    "                cmb = FrozenAsset(path=cmb.path, handler=cmb.handler)\n",
    "                \n",
    "                tasks.append(TaskTarget(cmb_asset=cmb,\n",
    "                                        split_name=split.name, \n",
    "                                        sim_num=sim))\n",
    "    return tasks\n",
    "\n",
    "ParallelFindStatsExecutor.build_tasks = build_tasks"
   ]
  },
  {
   "cell_type": "markdown",
   "metadata": {},
   "source": [
    "I define the method that actually does the processing of a task, `find_min_max()`. This method is static; because it doesn't need the state of the Executor, it can operate in a thread."
   ]
  },
  {
   "cell_type": "code",
   "execution_count": 21,
   "metadata": {},
   "outputs": [],
   "source": [
    "def find_min_max(task_target: TaskTarget):\n",
    "    \"\"\"\n",
    "    Acts on a single simulation (TaskTarget) to find the max and min values\n",
    "        for each detector and field.\n",
    "    \"\"\"\n",
    "    cmb = task_target.cmb_asset\n",
    "    cmb_data = cmb.handler.read(cmb.path)\n",
    "\n",
    "    res = {'vmin': cmb_data.min(), \n",
    "           'vmax': cmb_data.max()}\n",
    "    return res"
   ]
  },
  {
   "cell_type": "markdown",
   "metadata": {},
   "source": [
    "Next, I define `try_a_task()`, the class method that will run a task. I like having this run separately to catch issues in the main thread, giving more meaningful debugging information.\n",
    "\n",
    "Note that `process` is going to be the `find_min_max` function; this is parameterized because I've repurposed the code from elsewhere. My hope is that the analogous calls to `try_a_task` and the next `run_all_tasks` helps make things clear."
   ]
  },
  {
   "cell_type": "code",
   "execution_count": 22,
   "metadata": {},
   "outputs": [],
   "source": [
    "def try_a_task(self, process, task: TaskTarget):\n",
    "    \"\"\"\n",
    "    Get statistics for one sim (task) outside multiprocessing first, \n",
    "    to avoid painful debugging within multiprocessing.\n",
    "    \"\"\"\n",
    "    res = process(task)\n",
    "    if 'error' in res.keys():\n",
    "        raise Exception(res['error'])\n",
    "\n",
    "ParallelFindStatsExecutor.try_a_task = try_a_task"
   ]
  },
  {
   "cell_type": "markdown",
   "metadata": {},
   "source": [
    "All of the multiprocessing handling occurs in `run_all_tasks`. The `Manager` object provides thread-safe mechanisms to collect results. The `Pool` object handles running the tasks in separate threads. The `for` block is when each of the tasks are run.\n",
    "\n",
    "Note again that the input to `run_all_tasks` includes `process`, which is set in `execute()`."
   ]
  },
  {
   "cell_type": "code",
   "execution_count": 23,
   "metadata": {},
   "outputs": [],
   "source": [
    "from multiprocessing import Pool, Manager"
   ]
  },
  {
   "cell_type": "code",
   "execution_count": 24,
   "metadata": {},
   "outputs": [],
   "source": [
    "def run_all_tasks(self, process, tasks):\n",
    "    # Use multiprocessing to search through sims in parallel\n",
    "    # A manager allows collection of information across separate threads\n",
    "    with Manager() as manager:\n",
    "        results = manager.list()\n",
    "        # The Pool sets up the individual processes. \n",
    "        # Set processes according to the capacity of your computer\n",
    "        with Pool(processes=self.n_workers) as pool:\n",
    "            # Each result is the output of \"process\" running on each of the tasks\n",
    "            for result in tqdm(pool.imap_unordered(process, tasks), total=len(tasks)):\n",
    "                results.append(result)\n",
    "        # Convert the results to a regular list after multiprocessing is complete\n",
    "        #     and before the scope of the manager ends\n",
    "        results_list = list(results)\n",
    "    # Use the out_report asset to write all results to disk\n",
    "    return results_list\n",
    "\n",
    "ParallelFindStatsExecutor.run_all_tasks = run_all_tasks"
   ]
  },
  {
   "cell_type": "markdown",
   "metadata": {},
   "source": [
    "Once I've gotten the min and max for each individual map, I need to aggregate the results to get the min and max across all simulations."
   ]
  },
  {
   "cell_type": "code",
   "execution_count": 25,
   "metadata": {},
   "outputs": [],
   "source": [
    "def sift_results(results_list):\n",
    "    \"\"\"\n",
    "    Combine results from multiprocessing into a single dictionary.\n",
    "    \"\"\"\n",
    "    res = dict(vmin=None, vmax=None)\n",
    "    for r in results_list:\n",
    "        res['vmin'] = r['vmin'] if res['vmin'] is None else min(res['vmin'], r['vmin'])\n",
    "        res['vmax'] = r['vmax'] if res['vmax'] is None else max(res['vmax'], r['vmax'])\n",
    "    return res"
   ]
  },
  {
   "cell_type": "markdown",
   "metadata": {},
   "source": [
    "Because I've split everything out like this, I have to do another strange function assignment."
   ]
  },
  {
   "cell_type": "code",
   "execution_count": 26,
   "metadata": {},
   "outputs": [
    {
     "name": "stderr",
     "output_type": "stream",
     "text": [
      "Running ParallelFindStatsExecutor execute().\n",
      "100%|██████████| 6/6 [00:00<00:00, 199.75it/s]\n"
     ]
    }
   ],
   "source": [
    "executor = ParallelFindStatsExecutor(cfg)\n",
    "executor.scale_scan_method = find_min_max\n",
    "executor.scale_sift_method = sift_results\n",
    "\n",
    "executor.execute()"
   ]
  },
  {
   "cell_type": "markdown",
   "metadata": {},
   "source": [
    "And we see the same results..."
   ]
  },
  {
   "cell_type": "code",
   "execution_count": 27,
   "metadata": {},
   "outputs": [
    {
     "data": {
      "text/plain": [
       "{'vmax': <Quantity 4618.14739663 uK_CMB>,\n",
       " 'vmin': <Quantity -4752.7736399 uK_CMB>}"
      ]
     },
     "execution_count": 27,
     "metadata": {},
     "output_type": "execute_result"
    }
   ],
   "source": [
    "mm_path = executor.out_min_max_asset.path\n",
    "min_max = Config().read(mm_path)\n",
    "min_max  # These values are suspiciously large, the physics may be wrong here"
   ]
  },
  {
   "cell_type": "markdown",
   "metadata": {},
   "source": [
    "## Summary"
   ]
  },
  {
   "cell_type": "markdown",
   "metadata": {},
   "source": [
    "Rewriting this one last time, I have"
   ]
  },
  {
   "cell_type": "code",
   "execution_count": 28,
   "metadata": {},
   "outputs": [],
   "source": [
    "from typing import NamedTuple\n",
    "from pathlib import Path\n",
    "from multiprocessing import Pool, Manager\n",
    "\n",
    "from cmbml.core import GenericHandler\n",
    "\n",
    "class FrozenAsset(NamedTuple):\n",
    "    path: Path\n",
    "    handler: GenericHandler\n",
    "\n",
    "class TaskTarget(NamedTuple):\n",
    "    cmb_asset: FrozenAsset\n",
    "    split_name: str\n",
    "    sim_num: str\n",
    "\n",
    "\n",
    "class ParallelFindStatsExecutor(BaseStageExecutor):\n",
    "    def __init__(self, cfg) -> None:\n",
    "        super().__init__(cfg, stage_str=\"get_map_min_max\")\n",
    "\n",
    "        self.out_min_max = self.assets_out[\"cmb_map_min_max\"]\n",
    "        out_min_max_handler: Config\n",
    "\n",
    "        self.in_map_asset = self.assets_in[\"cmb_map\"]\n",
    "        in_map_handler: HealpyMap  # Specify handler\n",
    "\n",
    "        self.n_workers = cfg.n_workers\n",
    "        self.scale_scan_method = find_min_max\n",
    "        self.scale_sift_method = sift_results\n",
    "\n",
    "    def execute(self) -> None:\n",
    "        logger.debug(f\"Running {self.__class__.__name__} execute().\")\n",
    "        # Tasks are items on a to-do list\n",
    "        #   For each simulation, we compare the prediction and target\n",
    "        #   A task contains labels, file names, and handlers for each sim\n",
    "        tasks = self.build_tasks()\n",
    "\n",
    "        # Run a single task outside multiprocessing to catch issues quickly.\n",
    "        self.try_a_task(self.scale_scan_method, tasks[0])\n",
    "\n",
    "        results_list = self.run_all_tasks(self.scale_scan_method, tasks)\n",
    "\n",
    "        results_summary = self.scale_sift_method(results_list)\n",
    "\n",
    "        self.out_min_max.write(data=results_summary)\n",
    "\n",
    "    def build_tasks(self):\n",
    "        tasks = []\n",
    "        for split in self.splits:\n",
    "            for sim in split.iter_sims():\n",
    "                context = dict(split=split.name, sim_num=sim)\n",
    "                with self.name_tracker.set_contexts(contexts_dict=context):\n",
    "                    cmb = self.in_map_asset\n",
    "                    cmb = FrozenAsset(path=cmb.path, handler=cmb.handler)\n",
    "                    \n",
    "                    tasks.append(TaskTarget(cmb_asset=cmb,\n",
    "                                            split_name=split.name, \n",
    "                                            sim_num=sim))\n",
    "        return tasks\n",
    "\n",
    "    def try_a_task(self, process, task: TaskTarget):\n",
    "        \"\"\"\n",
    "        Get statistics for one sim (task) outside multiprocessing first, \n",
    "        to avoid painful debugging within multiprocessing.\n",
    "        \"\"\"\n",
    "        res = process(task)\n",
    "        if 'error' in res.keys():\n",
    "            raise Exception(res['error'])\n",
    "\n",
    "    def run_all_tasks(self, process, tasks):\n",
    "        # Use multiprocessing to search through sims in parallel\n",
    "        # A manager allows collection of information across separate threads\n",
    "        with Manager() as manager:\n",
    "            results = manager.list()\n",
    "            # The Pool sets up the individual processes. \n",
    "            # Set processes according to the capacity of your computer\n",
    "            with Pool(processes=self.n_workers) as pool:\n",
    "                # Each result is the output of \"process\" running on each of the tasks\n",
    "                for result in tqdm(pool.imap_unordered(process, tasks), total=len(tasks)):\n",
    "                    results.append(result)\n",
    "            # Convert the results to a regular list after multiprocessing is complete\n",
    "            #     and before the scope of the manager ends\n",
    "            results_list = list(results)\n",
    "        # Use the out_report asset to write all results to disk\n",
    "        return results_list\n",
    "\n",
    "def find_min_max(task_target: TaskTarget):\n",
    "    \"\"\"\n",
    "    Acts on a single simulation (TaskTarget) to find the max and min values\n",
    "        for each detector and field.\n",
    "    \"\"\"\n",
    "    cmb = task_target.cmb_asset\n",
    "    cmb_data = cmb.handler.read(cmb.path)\n",
    "\n",
    "    res = {'vmin': cmb_data.min(), \n",
    "           'vmax': cmb_data.max()}\n",
    "    return res\n",
    "\n",
    "def sift_results(results_list):\n",
    "    \"\"\"\n",
    "    Combine results from multiprocessing into a single dictionary.\n",
    "    \"\"\"\n",
    "    res = dict(vmin=None, vmax=None)\n",
    "    for r in results_list:\n",
    "        res['vmin'] = r['vmin'] if res['vmin'] is None else min(res['vmin'], r['vmin'])\n",
    "        res['vmax'] = r['vmax'] if res['vmax'] is None else max(res['vmax'], r['vmax'])\n",
    "    return res"
   ]
  },
  {
   "cell_type": "markdown",
   "metadata": {},
   "source": [
    "I run this again, just to check that nothing changed:"
   ]
  },
  {
   "cell_type": "code",
   "execution_count": 29,
   "metadata": {},
   "outputs": [
    {
     "name": "stderr",
     "output_type": "stream",
     "text": [
      "Running ParallelFindStatsExecutor execute().\n",
      "100%|██████████| 6/6 [00:00<00:00, 186.26it/s]\n"
     ]
    },
    {
     "data": {
      "text/plain": [
       "{'vmax': <Quantity 4618.14739663 uK_CMB>,\n",
       " 'vmin': <Quantity -4752.7736399 uK_CMB>}"
      ]
     },
     "execution_count": 29,
     "metadata": {},
     "output_type": "execute_result"
    }
   ],
   "source": [
    "executor = ParallelFindStatsExecutor(cfg)\n",
    "executor.scale_scan_method = find_min_max\n",
    "executor.scale_sift_method = sift_results\n",
    "\n",
    "executor.execute()\n",
    "\n",
    "mm_path = executor.out_min_max.path\n",
    "min_max = Config().read(mm_path)\n",
    "min_max"
   ]
  },
  {
   "cell_type": "markdown",
   "metadata": {},
   "source": [
    "## Comparing Serial and Parallel Executors"
   ]
  },
  {
   "cell_type": "markdown",
   "metadata": {},
   "source": [
    "I'll run this at a higher resolution, with more maps, to illustrate the difference between serial and parallel operation.\n",
    "\n",
    "Note that I override the configuration in order to change parameters. This can also be done from the command line, when running modules. I can switch both singular parameters as well as entire subsets of parameters in the defaults list."
   ]
  },
  {
   "cell_type": "code",
   "execution_count": 30,
   "metadata": {},
   "outputs": [
    {
     "name": "stdout",
     "output_type": "stream",
     "text": [
      "Nside before:   32\n",
      "Nside after:   256\n"
     ]
    }
   ],
   "source": [
    "# Check that the config has been reset\n",
    "print(f\"Nside before: {cfg.nside:>4}\")\n",
    "\n",
    "with initialize(version_base=None, config_path=\"../cfg\"):\n",
    "    cfg = compose(config_name=\"config_demoG_executors\", \n",
    "                  return_hydra_config=True,\n",
    "                  # change the nside (a parameter)\n",
    "                  #        and splits (to a different YAML)\n",
    "                  overrides=[\"nside=256\", \n",
    "                             \"splits='3-140'\",\n",
    "                             ])\n",
    "    HydraConfig.instance().set_config(cfg)\n",
    "\n",
    "print(f\"Nside after:  {cfg.nside:>4}\")"
   ]
  },
  {
   "cell_type": "markdown",
   "metadata": {},
   "source": [
    "First, I rerun the initial stages to generate the maps."
   ]
  },
  {
   "cell_type": "code",
   "execution_count": 31,
   "metadata": {},
   "outputs": [
    {
     "name": "stderr",
     "output_type": "stream",
     "text": [
      "Running MakePSExecutor execute()\n",
      "CMB power spectrum written to /data/jim/CMB_Data/Datasets2/DemoNotebook_256/A_PS_Setup/cmb_dummy_ps.fits\n",
      "Skipping stage logs for stage MakePSExecutor.\n",
      "Running PS2MapExecutor execute()\n",
      "Power spectrum read from /data/jim/CMB_Data/Datasets2/DemoNotebook_256/A_PS_Setup/cmb_dummy_ps.fits\n",
      "Working on split Train\n",
      "Working on sim 0000\n",
      "Map written to /data/jim/CMB_Data/Datasets2/DemoNotebook_256/B_CMB_Map/Train/sim0000/cmb_map.fits\n",
      "Working on sim 0001\n",
      "Map written to /data/jim/CMB_Data/Datasets2/DemoNotebook_256/B_CMB_Map/Train/sim0001/cmb_map.fits\n",
      "Working on sim 0002\n",
      "Map written to /data/jim/CMB_Data/Datasets2/DemoNotebook_256/B_CMB_Map/Train/sim0002/cmb_map.fits\n",
      "Working on sim 0003\n",
      "Map written to /data/jim/CMB_Data/Datasets2/DemoNotebook_256/B_CMB_Map/Train/sim0003/cmb_map.fits\n",
      "Working on sim 0004\n",
      "Map written to /data/jim/CMB_Data/Datasets2/DemoNotebook_256/B_CMB_Map/Train/sim0004/cmb_map.fits\n",
      "Working on sim 0005\n",
      "Map written to /data/jim/CMB_Data/Datasets2/DemoNotebook_256/B_CMB_Map/Train/sim0005/cmb_map.fits\n",
      "Working on sim 0006\n",
      "Map written to /data/jim/CMB_Data/Datasets2/DemoNotebook_256/B_CMB_Map/Train/sim0006/cmb_map.fits\n",
      "Working on sim 0007\n",
      "Map written to /data/jim/CMB_Data/Datasets2/DemoNotebook_256/B_CMB_Map/Train/sim0007/cmb_map.fits\n",
      "Working on sim 0008\n",
      "Map written to /data/jim/CMB_Data/Datasets2/DemoNotebook_256/B_CMB_Map/Train/sim0008/cmb_map.fits\n",
      "Working on sim 0009\n",
      "Map written to /data/jim/CMB_Data/Datasets2/DemoNotebook_256/B_CMB_Map/Train/sim0009/cmb_map.fits\n",
      "Working on sim 0010\n",
      "Map written to /data/jim/CMB_Data/Datasets2/DemoNotebook_256/B_CMB_Map/Train/sim0010/cmb_map.fits\n",
      "Working on sim 0011\n",
      "Map written to /data/jim/CMB_Data/Datasets2/DemoNotebook_256/B_CMB_Map/Train/sim0011/cmb_map.fits\n",
      "Working on sim 0012\n",
      "Map written to /data/jim/CMB_Data/Datasets2/DemoNotebook_256/B_CMB_Map/Train/sim0012/cmb_map.fits\n",
      "Working on sim 0013\n",
      "Map written to /data/jim/CMB_Data/Datasets2/DemoNotebook_256/B_CMB_Map/Train/sim0013/cmb_map.fits\n",
      "Working on sim 0014\n",
      "Map written to /data/jim/CMB_Data/Datasets2/DemoNotebook_256/B_CMB_Map/Train/sim0014/cmb_map.fits\n",
      "Working on sim 0015\n",
      "Map written to /data/jim/CMB_Data/Datasets2/DemoNotebook_256/B_CMB_Map/Train/sim0015/cmb_map.fits\n",
      "Working on sim 0016\n",
      "Map written to /data/jim/CMB_Data/Datasets2/DemoNotebook_256/B_CMB_Map/Train/sim0016/cmb_map.fits\n",
      "Working on sim 0017\n",
      "Map written to /data/jim/CMB_Data/Datasets2/DemoNotebook_256/B_CMB_Map/Train/sim0017/cmb_map.fits\n",
      "Working on sim 0018\n",
      "Map written to /data/jim/CMB_Data/Datasets2/DemoNotebook_256/B_CMB_Map/Train/sim0018/cmb_map.fits\n",
      "Working on sim 0019\n",
      "Map written to /data/jim/CMB_Data/Datasets2/DemoNotebook_256/B_CMB_Map/Train/sim0019/cmb_map.fits\n",
      "Working on sim 0020\n",
      "Map written to /data/jim/CMB_Data/Datasets2/DemoNotebook_256/B_CMB_Map/Train/sim0020/cmb_map.fits\n",
      "Working on sim 0021\n",
      "Map written to /data/jim/CMB_Data/Datasets2/DemoNotebook_256/B_CMB_Map/Train/sim0021/cmb_map.fits\n",
      "Working on sim 0022\n",
      "Map written to /data/jim/CMB_Data/Datasets2/DemoNotebook_256/B_CMB_Map/Train/sim0022/cmb_map.fits\n",
      "Working on sim 0023\n",
      "Map written to /data/jim/CMB_Data/Datasets2/DemoNotebook_256/B_CMB_Map/Train/sim0023/cmb_map.fits\n",
      "Working on sim 0024\n",
      "Map written to /data/jim/CMB_Data/Datasets2/DemoNotebook_256/B_CMB_Map/Train/sim0024/cmb_map.fits\n",
      "Working on sim 0025\n",
      "Map written to /data/jim/CMB_Data/Datasets2/DemoNotebook_256/B_CMB_Map/Train/sim0025/cmb_map.fits\n",
      "Working on sim 0026\n",
      "Map written to /data/jim/CMB_Data/Datasets2/DemoNotebook_256/B_CMB_Map/Train/sim0026/cmb_map.fits\n",
      "Working on sim 0027\n",
      "Map written to /data/jim/CMB_Data/Datasets2/DemoNotebook_256/B_CMB_Map/Train/sim0027/cmb_map.fits\n",
      "Working on sim 0028\n",
      "Map written to /data/jim/CMB_Data/Datasets2/DemoNotebook_256/B_CMB_Map/Train/sim0028/cmb_map.fits\n",
      "Working on sim 0029\n",
      "Map written to /data/jim/CMB_Data/Datasets2/DemoNotebook_256/B_CMB_Map/Train/sim0029/cmb_map.fits\n",
      "Working on sim 0030\n",
      "Map written to /data/jim/CMB_Data/Datasets2/DemoNotebook_256/B_CMB_Map/Train/sim0030/cmb_map.fits\n",
      "Working on sim 0031\n",
      "Map written to /data/jim/CMB_Data/Datasets2/DemoNotebook_256/B_CMB_Map/Train/sim0031/cmb_map.fits\n",
      "Working on sim 0032\n",
      "Map written to /data/jim/CMB_Data/Datasets2/DemoNotebook_256/B_CMB_Map/Train/sim0032/cmb_map.fits\n",
      "Working on sim 0033\n",
      "Map written to /data/jim/CMB_Data/Datasets2/DemoNotebook_256/B_CMB_Map/Train/sim0033/cmb_map.fits\n",
      "Working on sim 0034\n",
      "Map written to /data/jim/CMB_Data/Datasets2/DemoNotebook_256/B_CMB_Map/Train/sim0034/cmb_map.fits\n",
      "Working on sim 0035\n",
      "Map written to /data/jim/CMB_Data/Datasets2/DemoNotebook_256/B_CMB_Map/Train/sim0035/cmb_map.fits\n",
      "Working on sim 0036\n",
      "Map written to /data/jim/CMB_Data/Datasets2/DemoNotebook_256/B_CMB_Map/Train/sim0036/cmb_map.fits\n",
      "Working on sim 0037\n",
      "Map written to /data/jim/CMB_Data/Datasets2/DemoNotebook_256/B_CMB_Map/Train/sim0037/cmb_map.fits\n",
      "Working on sim 0038\n",
      "Map written to /data/jim/CMB_Data/Datasets2/DemoNotebook_256/B_CMB_Map/Train/sim0038/cmb_map.fits\n",
      "Working on sim 0039\n",
      "Map written to /data/jim/CMB_Data/Datasets2/DemoNotebook_256/B_CMB_Map/Train/sim0039/cmb_map.fits\n",
      "Working on sim 0040\n",
      "Map written to /data/jim/CMB_Data/Datasets2/DemoNotebook_256/B_CMB_Map/Train/sim0040/cmb_map.fits\n",
      "Working on sim 0041\n",
      "Map written to /data/jim/CMB_Data/Datasets2/DemoNotebook_256/B_CMB_Map/Train/sim0041/cmb_map.fits\n",
      "Working on sim 0042\n",
      "Map written to /data/jim/CMB_Data/Datasets2/DemoNotebook_256/B_CMB_Map/Train/sim0042/cmb_map.fits\n",
      "Working on sim 0043\n",
      "Map written to /data/jim/CMB_Data/Datasets2/DemoNotebook_256/B_CMB_Map/Train/sim0043/cmb_map.fits\n",
      "Working on sim 0044\n",
      "Map written to /data/jim/CMB_Data/Datasets2/DemoNotebook_256/B_CMB_Map/Train/sim0044/cmb_map.fits\n",
      "Working on sim 0045\n",
      "Map written to /data/jim/CMB_Data/Datasets2/DemoNotebook_256/B_CMB_Map/Train/sim0045/cmb_map.fits\n",
      "Working on sim 0046\n",
      "Map written to /data/jim/CMB_Data/Datasets2/DemoNotebook_256/B_CMB_Map/Train/sim0046/cmb_map.fits\n",
      "Working on sim 0047\n",
      "Map written to /data/jim/CMB_Data/Datasets2/DemoNotebook_256/B_CMB_Map/Train/sim0047/cmb_map.fits\n",
      "Working on sim 0048\n",
      "Map written to /data/jim/CMB_Data/Datasets2/DemoNotebook_256/B_CMB_Map/Train/sim0048/cmb_map.fits\n",
      "Working on sim 0049\n",
      "Map written to /data/jim/CMB_Data/Datasets2/DemoNotebook_256/B_CMB_Map/Train/sim0049/cmb_map.fits\n",
      "Working on sim 0050\n",
      "Map written to /data/jim/CMB_Data/Datasets2/DemoNotebook_256/B_CMB_Map/Train/sim0050/cmb_map.fits\n",
      "Working on sim 0051\n",
      "Map written to /data/jim/CMB_Data/Datasets2/DemoNotebook_256/B_CMB_Map/Train/sim0051/cmb_map.fits\n",
      "Working on sim 0052\n",
      "Map written to /data/jim/CMB_Data/Datasets2/DemoNotebook_256/B_CMB_Map/Train/sim0052/cmb_map.fits\n",
      "Working on sim 0053\n",
      "Map written to /data/jim/CMB_Data/Datasets2/DemoNotebook_256/B_CMB_Map/Train/sim0053/cmb_map.fits\n",
      "Working on sim 0054\n",
      "Map written to /data/jim/CMB_Data/Datasets2/DemoNotebook_256/B_CMB_Map/Train/sim0054/cmb_map.fits\n",
      "Working on sim 0055\n",
      "Map written to /data/jim/CMB_Data/Datasets2/DemoNotebook_256/B_CMB_Map/Train/sim0055/cmb_map.fits\n",
      "Working on sim 0056\n",
      "Map written to /data/jim/CMB_Data/Datasets2/DemoNotebook_256/B_CMB_Map/Train/sim0056/cmb_map.fits\n",
      "Working on sim 0057\n",
      "Map written to /data/jim/CMB_Data/Datasets2/DemoNotebook_256/B_CMB_Map/Train/sim0057/cmb_map.fits\n",
      "Working on sim 0058\n",
      "Map written to /data/jim/CMB_Data/Datasets2/DemoNotebook_256/B_CMB_Map/Train/sim0058/cmb_map.fits\n",
      "Working on sim 0059\n",
      "Map written to /data/jim/CMB_Data/Datasets2/DemoNotebook_256/B_CMB_Map/Train/sim0059/cmb_map.fits\n",
      "Working on sim 0060\n",
      "Map written to /data/jim/CMB_Data/Datasets2/DemoNotebook_256/B_CMB_Map/Train/sim0060/cmb_map.fits\n",
      "Working on sim 0061\n",
      "Map written to /data/jim/CMB_Data/Datasets2/DemoNotebook_256/B_CMB_Map/Train/sim0061/cmb_map.fits\n",
      "Working on sim 0062\n",
      "Map written to /data/jim/CMB_Data/Datasets2/DemoNotebook_256/B_CMB_Map/Train/sim0062/cmb_map.fits\n",
      "Working on sim 0063\n",
      "Map written to /data/jim/CMB_Data/Datasets2/DemoNotebook_256/B_CMB_Map/Train/sim0063/cmb_map.fits\n",
      "Working on sim 0064\n",
      "Map written to /data/jim/CMB_Data/Datasets2/DemoNotebook_256/B_CMB_Map/Train/sim0064/cmb_map.fits\n",
      "Working on sim 0065\n",
      "Map written to /data/jim/CMB_Data/Datasets2/DemoNotebook_256/B_CMB_Map/Train/sim0065/cmb_map.fits\n",
      "Working on sim 0066\n",
      "Map written to /data/jim/CMB_Data/Datasets2/DemoNotebook_256/B_CMB_Map/Train/sim0066/cmb_map.fits\n",
      "Working on sim 0067\n",
      "Map written to /data/jim/CMB_Data/Datasets2/DemoNotebook_256/B_CMB_Map/Train/sim0067/cmb_map.fits\n",
      "Working on sim 0068\n",
      "Map written to /data/jim/CMB_Data/Datasets2/DemoNotebook_256/B_CMB_Map/Train/sim0068/cmb_map.fits\n",
      "Working on sim 0069\n",
      "Map written to /data/jim/CMB_Data/Datasets2/DemoNotebook_256/B_CMB_Map/Train/sim0069/cmb_map.fits\n",
      "Working on sim 0070\n",
      "Map written to /data/jim/CMB_Data/Datasets2/DemoNotebook_256/B_CMB_Map/Train/sim0070/cmb_map.fits\n",
      "Working on sim 0071\n",
      "Map written to /data/jim/CMB_Data/Datasets2/DemoNotebook_256/B_CMB_Map/Train/sim0071/cmb_map.fits\n",
      "Working on sim 0072\n",
      "Map written to /data/jim/CMB_Data/Datasets2/DemoNotebook_256/B_CMB_Map/Train/sim0072/cmb_map.fits\n",
      "Working on sim 0073\n",
      "Map written to /data/jim/CMB_Data/Datasets2/DemoNotebook_256/B_CMB_Map/Train/sim0073/cmb_map.fits\n",
      "Working on sim 0074\n",
      "Map written to /data/jim/CMB_Data/Datasets2/DemoNotebook_256/B_CMB_Map/Train/sim0074/cmb_map.fits\n",
      "Working on sim 0075\n",
      "Map written to /data/jim/CMB_Data/Datasets2/DemoNotebook_256/B_CMB_Map/Train/sim0075/cmb_map.fits\n",
      "Working on sim 0076\n",
      "Map written to /data/jim/CMB_Data/Datasets2/DemoNotebook_256/B_CMB_Map/Train/sim0076/cmb_map.fits\n",
      "Working on sim 0077\n",
      "Map written to /data/jim/CMB_Data/Datasets2/DemoNotebook_256/B_CMB_Map/Train/sim0077/cmb_map.fits\n",
      "Working on sim 0078\n",
      "Map written to /data/jim/CMB_Data/Datasets2/DemoNotebook_256/B_CMB_Map/Train/sim0078/cmb_map.fits\n",
      "Working on sim 0079\n",
      "Map written to /data/jim/CMB_Data/Datasets2/DemoNotebook_256/B_CMB_Map/Train/sim0079/cmb_map.fits\n",
      "Working on sim 0080\n",
      "Map written to /data/jim/CMB_Data/Datasets2/DemoNotebook_256/B_CMB_Map/Train/sim0080/cmb_map.fits\n",
      "Working on sim 0081\n",
      "Map written to /data/jim/CMB_Data/Datasets2/DemoNotebook_256/B_CMB_Map/Train/sim0081/cmb_map.fits\n",
      "Working on sim 0082\n",
      "Map written to /data/jim/CMB_Data/Datasets2/DemoNotebook_256/B_CMB_Map/Train/sim0082/cmb_map.fits\n",
      "Working on sim 0083\n",
      "Map written to /data/jim/CMB_Data/Datasets2/DemoNotebook_256/B_CMB_Map/Train/sim0083/cmb_map.fits\n",
      "Working on sim 0084\n",
      "Map written to /data/jim/CMB_Data/Datasets2/DemoNotebook_256/B_CMB_Map/Train/sim0084/cmb_map.fits\n",
      "Working on sim 0085\n",
      "Map written to /data/jim/CMB_Data/Datasets2/DemoNotebook_256/B_CMB_Map/Train/sim0085/cmb_map.fits\n",
      "Working on sim 0086\n",
      "Map written to /data/jim/CMB_Data/Datasets2/DemoNotebook_256/B_CMB_Map/Train/sim0086/cmb_map.fits\n",
      "Working on sim 0087\n",
      "Map written to /data/jim/CMB_Data/Datasets2/DemoNotebook_256/B_CMB_Map/Train/sim0087/cmb_map.fits\n",
      "Working on sim 0088\n",
      "Map written to /data/jim/CMB_Data/Datasets2/DemoNotebook_256/B_CMB_Map/Train/sim0088/cmb_map.fits\n",
      "Working on sim 0089\n",
      "Map written to /data/jim/CMB_Data/Datasets2/DemoNotebook_256/B_CMB_Map/Train/sim0089/cmb_map.fits\n",
      "Working on sim 0090\n",
      "Map written to /data/jim/CMB_Data/Datasets2/DemoNotebook_256/B_CMB_Map/Train/sim0090/cmb_map.fits\n",
      "Working on sim 0091\n",
      "Map written to /data/jim/CMB_Data/Datasets2/DemoNotebook_256/B_CMB_Map/Train/sim0091/cmb_map.fits\n",
      "Working on sim 0092\n",
      "Map written to /data/jim/CMB_Data/Datasets2/DemoNotebook_256/B_CMB_Map/Train/sim0092/cmb_map.fits\n",
      "Working on sim 0093\n",
      "Map written to /data/jim/CMB_Data/Datasets2/DemoNotebook_256/B_CMB_Map/Train/sim0093/cmb_map.fits\n",
      "Working on sim 0094\n",
      "Map written to /data/jim/CMB_Data/Datasets2/DemoNotebook_256/B_CMB_Map/Train/sim0094/cmb_map.fits\n",
      "Working on sim 0095\n",
      "Map written to /data/jim/CMB_Data/Datasets2/DemoNotebook_256/B_CMB_Map/Train/sim0095/cmb_map.fits\n",
      "Working on sim 0096\n",
      "Map written to /data/jim/CMB_Data/Datasets2/DemoNotebook_256/B_CMB_Map/Train/sim0096/cmb_map.fits\n",
      "Working on sim 0097\n",
      "Map written to /data/jim/CMB_Data/Datasets2/DemoNotebook_256/B_CMB_Map/Train/sim0097/cmb_map.fits\n",
      "Working on sim 0098\n",
      "Map written to /data/jim/CMB_Data/Datasets2/DemoNotebook_256/B_CMB_Map/Train/sim0098/cmb_map.fits\n",
      "Working on sim 0099\n",
      "Map written to /data/jim/CMB_Data/Datasets2/DemoNotebook_256/B_CMB_Map/Train/sim0099/cmb_map.fits\n",
      "Working on split Valid\n",
      "Working on sim 0000\n",
      "Map written to /data/jim/CMB_Data/Datasets2/DemoNotebook_256/B_CMB_Map/Valid/sim0000/cmb_map.fits\n",
      "Working on sim 0001\n",
      "Map written to /data/jim/CMB_Data/Datasets2/DemoNotebook_256/B_CMB_Map/Valid/sim0001/cmb_map.fits\n",
      "Working on sim 0002\n",
      "Map written to /data/jim/CMB_Data/Datasets2/DemoNotebook_256/B_CMB_Map/Valid/sim0002/cmb_map.fits\n",
      "Working on sim 0003\n",
      "Map written to /data/jim/CMB_Data/Datasets2/DemoNotebook_256/B_CMB_Map/Valid/sim0003/cmb_map.fits\n",
      "Working on sim 0004\n",
      "Map written to /data/jim/CMB_Data/Datasets2/DemoNotebook_256/B_CMB_Map/Valid/sim0004/cmb_map.fits\n",
      "Working on sim 0005\n",
      "Map written to /data/jim/CMB_Data/Datasets2/DemoNotebook_256/B_CMB_Map/Valid/sim0005/cmb_map.fits\n",
      "Working on sim 0006\n",
      "Map written to /data/jim/CMB_Data/Datasets2/DemoNotebook_256/B_CMB_Map/Valid/sim0006/cmb_map.fits\n",
      "Working on sim 0007\n",
      "Map written to /data/jim/CMB_Data/Datasets2/DemoNotebook_256/B_CMB_Map/Valid/sim0007/cmb_map.fits\n",
      "Working on sim 0008\n",
      "Map written to /data/jim/CMB_Data/Datasets2/DemoNotebook_256/B_CMB_Map/Valid/sim0008/cmb_map.fits\n",
      "Working on sim 0009\n",
      "Map written to /data/jim/CMB_Data/Datasets2/DemoNotebook_256/B_CMB_Map/Valid/sim0009/cmb_map.fits\n",
      "Working on sim 0010\n",
      "Map written to /data/jim/CMB_Data/Datasets2/DemoNotebook_256/B_CMB_Map/Valid/sim0010/cmb_map.fits\n",
      "Working on sim 0011\n",
      "Map written to /data/jim/CMB_Data/Datasets2/DemoNotebook_256/B_CMB_Map/Valid/sim0011/cmb_map.fits\n",
      "Working on sim 0012\n",
      "Map written to /data/jim/CMB_Data/Datasets2/DemoNotebook_256/B_CMB_Map/Valid/sim0012/cmb_map.fits\n",
      "Working on sim 0013\n",
      "Map written to /data/jim/CMB_Data/Datasets2/DemoNotebook_256/B_CMB_Map/Valid/sim0013/cmb_map.fits\n",
      "Working on sim 0014\n",
      "Map written to /data/jim/CMB_Data/Datasets2/DemoNotebook_256/B_CMB_Map/Valid/sim0014/cmb_map.fits\n",
      "Working on sim 0015\n",
      "Map written to /data/jim/CMB_Data/Datasets2/DemoNotebook_256/B_CMB_Map/Valid/sim0015/cmb_map.fits\n",
      "Working on sim 0016\n",
      "Map written to /data/jim/CMB_Data/Datasets2/DemoNotebook_256/B_CMB_Map/Valid/sim0016/cmb_map.fits\n",
      "Working on sim 0017\n",
      "Map written to /data/jim/CMB_Data/Datasets2/DemoNotebook_256/B_CMB_Map/Valid/sim0017/cmb_map.fits\n",
      "Working on sim 0018\n",
      "Map written to /data/jim/CMB_Data/Datasets2/DemoNotebook_256/B_CMB_Map/Valid/sim0018/cmb_map.fits\n",
      "Working on sim 0019\n",
      "Map written to /data/jim/CMB_Data/Datasets2/DemoNotebook_256/B_CMB_Map/Valid/sim0019/cmb_map.fits\n",
      "Working on split Test\n",
      "Working on sim 0000\n",
      "Map written to /data/jim/CMB_Data/Datasets2/DemoNotebook_256/B_CMB_Map/Test/sim0000/cmb_map.fits\n",
      "Working on sim 0001\n",
      "Map written to /data/jim/CMB_Data/Datasets2/DemoNotebook_256/B_CMB_Map/Test/sim0001/cmb_map.fits\n",
      "Working on sim 0002\n",
      "Map written to /data/jim/CMB_Data/Datasets2/DemoNotebook_256/B_CMB_Map/Test/sim0002/cmb_map.fits\n",
      "Working on sim 0003\n",
      "Map written to /data/jim/CMB_Data/Datasets2/DemoNotebook_256/B_CMB_Map/Test/sim0003/cmb_map.fits\n",
      "Working on sim 0004\n",
      "Map written to /data/jim/CMB_Data/Datasets2/DemoNotebook_256/B_CMB_Map/Test/sim0004/cmb_map.fits\n",
      "Working on sim 0005\n",
      "Map written to /data/jim/CMB_Data/Datasets2/DemoNotebook_256/B_CMB_Map/Test/sim0005/cmb_map.fits\n",
      "Working on sim 0006\n",
      "Map written to /data/jim/CMB_Data/Datasets2/DemoNotebook_256/B_CMB_Map/Test/sim0006/cmb_map.fits\n",
      "Working on sim 0007\n",
      "Map written to /data/jim/CMB_Data/Datasets2/DemoNotebook_256/B_CMB_Map/Test/sim0007/cmb_map.fits\n",
      "Working on sim 0008\n",
      "Map written to /data/jim/CMB_Data/Datasets2/DemoNotebook_256/B_CMB_Map/Test/sim0008/cmb_map.fits\n",
      "Working on sim 0009\n",
      "Map written to /data/jim/CMB_Data/Datasets2/DemoNotebook_256/B_CMB_Map/Test/sim0009/cmb_map.fits\n",
      "Working on sim 0010\n",
      "Map written to /data/jim/CMB_Data/Datasets2/DemoNotebook_256/B_CMB_Map/Test/sim0010/cmb_map.fits\n",
      "Working on sim 0011\n",
      "Map written to /data/jim/CMB_Data/Datasets2/DemoNotebook_256/B_CMB_Map/Test/sim0011/cmb_map.fits\n",
      "Working on sim 0012\n",
      "Map written to /data/jim/CMB_Data/Datasets2/DemoNotebook_256/B_CMB_Map/Test/sim0012/cmb_map.fits\n",
      "Working on sim 0013\n",
      "Map written to /data/jim/CMB_Data/Datasets2/DemoNotebook_256/B_CMB_Map/Test/sim0013/cmb_map.fits\n",
      "Working on sim 0014\n",
      "Map written to /data/jim/CMB_Data/Datasets2/DemoNotebook_256/B_CMB_Map/Test/sim0014/cmb_map.fits\n",
      "Working on sim 0015\n",
      "Map written to /data/jim/CMB_Data/Datasets2/DemoNotebook_256/B_CMB_Map/Test/sim0015/cmb_map.fits\n",
      "Working on sim 0016\n",
      "Map written to /data/jim/CMB_Data/Datasets2/DemoNotebook_256/B_CMB_Map/Test/sim0016/cmb_map.fits\n",
      "Working on sim 0017\n",
      "Map written to /data/jim/CMB_Data/Datasets2/DemoNotebook_256/B_CMB_Map/Test/sim0017/cmb_map.fits\n",
      "Working on sim 0018\n",
      "Map written to /data/jim/CMB_Data/Datasets2/DemoNotebook_256/B_CMB_Map/Test/sim0018/cmb_map.fits\n",
      "Working on sim 0019\n",
      "Map written to /data/jim/CMB_Data/Datasets2/DemoNotebook_256/B_CMB_Map/Test/sim0019/cmb_map.fits\n",
      "Pipeline completed.\n"
     ]
    }
   ],
   "source": [
    "pipeline_context = PipelineContext(cfg)\n",
    "\n",
    "pipeline_context.add_pipe(MakePSExecutor)\n",
    "pipeline_context.add_pipe(PS2MapExecutor)\n",
    "\n",
    "pipeline_context.prerun_pipeline()\n",
    "\n",
    "try:\n",
    "    pipeline_context.run_pipeline()\n",
    "except Exception as e:\n",
    "    logger.warning(\"An exception occured during the pipeline.\", exc_info=e)\n",
    "    raise e\n",
    "finally:\n",
    "    logger.info(\"Pipeline completed.\")"
   ]
  },
  {
   "cell_type": "markdown",
   "metadata": {},
   "source": [
    "Now I can run both the Serial executor and the Parallel executor."
   ]
  },
  {
   "cell_type": "code",
   "execution_count": 32,
   "metadata": {},
   "outputs": [
    {
     "name": "stderr",
     "output_type": "stream",
     "text": [
      "Running SerialFindStatsExecutor execute()\n",
      "100%|██████████| 100/100 [00:01<00:00, 71.88it/s]\n",
      "100%|██████████| 20/20 [00:00<00:00, 73.80it/s]\n",
      "Map min/max written to /data/jim/CMB_Data/Datasets2/DemoNotebook_256/C_Map_Min_Max/cmb_min_max.yaml\n"
     ]
    },
    {
     "data": {
      "text/plain": [
       "{'vmax': <Quantity 19578.35004025 uK_CMB>,\n",
       " 'vmin': <Quantity -19212.18969884 uK_CMB>}"
      ]
     },
     "execution_count": 32,
     "metadata": {},
     "output_type": "execute_result"
    }
   ],
   "source": [
    "executor = SerialFindStatsExecutor(cfg)\n",
    "executor.scale_scan_method = find_min_max\n",
    "executor.scale_sift_method = sift_results\n",
    "\n",
    "executor.execute()\n",
    "\n",
    "mm_path = executor.out_min_max_asset.path\n",
    "min_max = Config().read(mm_path)\n",
    "min_max"
   ]
  },
  {
   "cell_type": "code",
   "execution_count": 33,
   "metadata": {},
   "outputs": [
    {
     "name": "stderr",
     "output_type": "stream",
     "text": [
      "Running ParallelFindStatsExecutor execute().\n",
      "100%|██████████| 120/120 [00:00<00:00, 277.70it/s]\n"
     ]
    },
    {
     "data": {
      "text/plain": [
       "{'vmax': <Quantity 19578.35004025 uK_CMB>,\n",
       " 'vmin': <Quantity -19212.18969884 uK_CMB>}"
      ]
     },
     "execution_count": 33,
     "metadata": {},
     "output_type": "execute_result"
    }
   ],
   "source": [
    "executor = ParallelFindStatsExecutor(cfg)\n",
    "executor.scale_scan_method = find_min_max\n",
    "executor.scale_sift_method = sift_results\n",
    "\n",
    "executor.execute()\n",
    "\n",
    "mm_path = executor.out_min_max.path\n",
    "min_max = Config().read(mm_path)\n",
    "min_max  # Again, these values are suspiciously large; the physics may be wrong here but that's immaterial for this tutorial"
   ]
  },
  {
   "cell_type": "markdown",
   "metadata": {},
   "source": [
    "The speed-up would be more obvious if the dataset were larger, more processors were used, or larger maps are used. I've set it to 6 workers in the configuration for compatibility reasons.\n",
    "\n",
    "Parallel operation does come at the cost of being more difficult to debug, but is worth it.\n",
    "\n",
    "Note that this would not be effective for the creation of CMB maps. The `SYNFAST` algorithm is already configured to use multiple processors, so multiprocessing would likely slow things down. <!-- 75% confidence -->"
   ]
  },
  {
   "cell_type": "code",
   "execution_count": 34,
   "metadata": {},
   "outputs": [
    {
     "name": "stdout",
     "output_type": "stream",
     "text": [
      "Nside before:  256\n",
      "Nside after:    32\n"
     ]
    }
   ],
   "source": [
    "# Check that the config has been reset\n",
    "print(f\"Nside before: {cfg.nside:>4}\")\n",
    "\n",
    "with initialize(version_base=None, config_path=\"../cfg\"):\n",
    "    cfg = compose(config_name=\"config_demoG_executors\", \n",
    "                  return_hydra_config=True)\n",
    "    HydraConfig.instance().set_config(cfg)\n",
    "\n",
    "print(f\"Nside after:  {cfg.nside:>4}\")"
   ]
  },
  {
   "cell_type": "markdown",
   "metadata": {},
   "source": [
    "# PyTorch Dataset-centric Executor"
   ]
  },
  {
   "cell_type": "markdown",
   "metadata": {},
   "source": [
    "In this Executor I'll use a PyTorch Dataset to load and preprocess the maps I've created. Then I'll save those preprocessed maps. The preprocessing is very simple: I want my maps to always have values between zero and one (MinMax scaling). This is typical in some machine learning applications. (In this particular case, I think I'd rather standardize the data so that it has mean zero and standard deviation of one, but that would have been more effort than needed in the preprocessing executor.)\n",
    "\n",
    "This isn't the best use of PyTorch. However, I don't want to get into the details of putting together and training a model. This way I can still show the structure of an Executor used for working with PyTorch.\n",
    "\n",
    "PyTorch Datasets can be set up to [Transform](https://pytorch.org/tutorials/beginner/data_loading_tutorial.html) data as it is being loaded. This is very useful when augmenting datasets or applying simple preprocessing. I'll use this concept to handle MinMax scaling.\n",
    "\n",
    "Side notes: \n",
    "- This is not a great use of memory or time; if using the full map data, as-is, there's no need to save preprocessed data.\n",
    "- On the other hand, in the Patch_NN method, I'm using only a portion of each map. In that case, there's no reason to load the full map. It seems better to write preprocessed maps to disk. \n",
    "- I think there is a way to properly use the concept of a PyTorch transform and skip saving preprocessed maps. I know Astropy can use memory maps when loading data (to get a portion of the map), and I suspect that this could be used in the future."
   ]
  },
  {
   "cell_type": "markdown",
   "metadata": {},
   "source": [
    "## Configuration YAML"
   ]
  },
  {
   "cell_type": "markdown",
   "metadata": {},
   "source": [
    "First I consider the stage in terms of output and input. I want to output preprocessed maps. To do so, I need to input both the generated maps and the global minimum and maximum. The YAML has the following:"
   ]
  },
  {
   "cell_type": "code",
   "execution_count": 35,
   "metadata": {},
   "outputs": [
    {
     "name": "stdout",
     "output_type": "stream",
     "text": [
      "assets_out:\n",
      "  cmb_map:\n",
      "    handler: HealpyMap\n",
      "    path_template: '{root}/{dataset}/{stage}/{split}/{sim}/cmb_map.fits'\n",
      "assets_in:\n",
      "  cmb_map:\n",
      "    stage: ps2map\n",
      "  cmb_map_min_max:\n",
      "    stage: get_map_min_max\n",
      "dir_name: D_Prep\n",
      "splits:\n",
      "- train\n",
      "- valid\n",
      "make_stage_log: false\n",
      "\n"
     ]
    }
   ],
   "source": [
    "print(OmegaConf.to_yaml(cfg.pipeline.prep))"
   ]
  },
  {
   "cell_type": "markdown",
   "metadata": {},
   "source": [
    "## Executor"
   ]
  },
  {
   "cell_type": "markdown",
   "metadata": {},
   "source": [
    "Before I set up the Executor, I need to define a dataset. Per the PyTorch documentation, the Dataset needs to have `__len__` and `__getitem__` methods."
   ]
  },
  {
   "cell_type": "markdown",
   "metadata": {},
   "source": [
    "On initialization, the Dataset gets\n",
    "- `n_sims`: the number of simulations (in a split)\n",
    "- `path_template`: a string containing \"{sim_idx}\", to be filled in later\n",
    "- `handler`: the asset handler, in this case it will be a HealpyMap\n",
    "- `transform`: the method to apply to scale the map. This will be explained more below."
   ]
  },
  {
   "cell_type": "markdown",
   "metadata": {},
   "source": [
    "The `__getitem()__` method takes in an index. This can be done in other ways, but requires definition of a custom PyTorch Sampler. This is intended to use the baseline Sampler, which gets random values between zero and `Dataset.__len__`.\n",
    "\n",
    "It uses the index to format the `path_template` and loads the file at that path. Because the handler produces astropy Quantities, I strip the data to its value. Then I apply whatever transform is defined. Last, the data is converted to a PyTorch Tensor."
   ]
  },
  {
   "cell_type": "code",
   "execution_count": 36,
   "metadata": {},
   "outputs": [],
   "source": [
    "import torch\n",
    "from torch.utils.data import Dataset, DataLoader\n",
    "\n",
    "class DemoDataset(Dataset):\n",
    "    def __init__(self, \n",
    "                 n_sims,\n",
    "                 path_template,\n",
    "                 handler,\n",
    "                 transform=None\n",
    "                 ):\n",
    "        self.n_sims = n_sims\n",
    "        self.path_template = path_template\n",
    "        self.handler = handler\n",
    "        self.transform = transform\n",
    "\n",
    "    def __len__(self):\n",
    "        return self.n_sims\n",
    "\n",
    "    def __getitem__(self, sim_idx):\n",
    "        item_path = self.path_template.format(sim_idx=sim_idx)\n",
    "        item = self.handler.read(item_path)\n",
    "        item = item.value  # Maps are loaded as astropy Quantity objects\n",
    "                           #   We only want the numpy array\n",
    "        if self.transform:\n",
    "            item = self.transform(item)\n",
    "\n",
    "        item_tensor = torch.as_tensor(item)\n",
    "\n",
    "        # I return the index so I can use it in the file name.\n",
    "        #   It's not generally a good idea, but I'm saving a\n",
    "        #   file, not just training with the data.\n",
    "        return item_tensor, sim_idx"
   ]
  },
  {
   "cell_type": "markdown",
   "metadata": {},
   "source": [
    "I'll be doing my preprocessing as part of the DataLoader, to demonstrate this capability. To do so, I need a [custom Transform object](https://pytorch.org/tutorials/beginner/data_loading_tutorial.html#transforms). This is a very simple transform. It's set up as a callable class so that it can be run without redefining the parameters (`vmin` and `vmax`) every time:"
   ]
  },
  {
   "cell_type": "code",
   "execution_count": 37,
   "metadata": {},
   "outputs": [],
   "source": [
    "class MinMaxScaler:\n",
    "    def __init__(self, vmin, vmax):\n",
    "        self.vmin = vmin\n",
    "        self.vmax = vmax\n",
    "\n",
    "    def __call__(self, data):\n",
    "        return (data - self.vmin) / (self.vmax - self.vmin)"
   ]
  },
  {
   "cell_type": "markdown",
   "metadata": {},
   "source": [
    "Now I set up the Executor. I've again broken this into a few cells, so I can comment on the class methods."
   ]
  },
  {
   "cell_type": "markdown",
   "metadata": {},
   "source": [
    "Because I define each Dataset for a single split, I'm going to iterate over the splits in the `execute()` function. Everything else here should be straightforward, based on what's been seen in previous executors."
   ]
  },
  {
   "cell_type": "code",
   "execution_count": 38,
   "metadata": {},
   "outputs": [],
   "source": [
    "class DemoPrepExecutor(BaseStageExecutor):\n",
    "    def __init__(self, cfg) -> None:\n",
    "        super().__init__(cfg, stage_str=\"prep\")\n",
    "\n",
    "        self.out_map: Asset = self.assets_out[\"cmb_map\"]\n",
    "        out_model_handler: HealpyMap\n",
    "\n",
    "        self.in_map: Asset = self.assets_in[\"cmb_map\"]\n",
    "        self.in_dataset_stats: Asset = self.assets_in[\"cmb_map_min_max\"]\n",
    "        in_map_handler: HealpyMap\n",
    "        in_stats_handler: Config\n",
    "\n",
    "        self.n_workers = cfg.prep.n_workers\n",
    "        self.batch_size = cfg.prep.batch_size\n",
    "\n",
    "        self.stats = None  # Placeholder for the dataset stats\n",
    "\n",
    "    def execute(self) -> None:\n",
    "        logger.debug(f\"Running {self.__class__.__name__} execute()\")\n",
    "\n",
    "        self.dataset_stats = self.in_dataset_stats.read()\n",
    "\n",
    "        for split in self.splits:\n",
    "            with self.name_tracker.set_context(\"split\", split.name):\n",
    "                self.process_split(split)\n",
    "        logger.info(\"Preprocessing complete.\")\n",
    "    \n",
    "    def process_split(self, split):\n",
    "        # To be over-written later\n",
    "        pass"
   ]
  },
  {
   "cell_type": "markdown",
   "metadata": {},
   "source": [
    "Everything interesting in this executor is within the method `set_up_dataset()`:\n",
    "- Get a path_template for use within the Dataset, using the Namer\n",
    "- Set up the Transform object\n",
    "- Make and return the dataset itself."
   ]
  },
  {
   "cell_type": "code",
   "execution_count": 39,
   "metadata": {},
   "outputs": [],
   "source": [
    "def set_up_dataset(self, split) -> Dataset:\n",
    "    context = dict(\n",
    "        split=split.name,\n",
    "        sim=self.name_tracker.sim_name_template\n",
    "    )\n",
    "    with self.name_tracker.set_contexts(contexts_dict=context):\n",
    "        path_template = str(self.in_map.path)\n",
    "\n",
    "    vmin = self.dataset_stats[\"vmin\"].value\n",
    "    vmax = self.dataset_stats[\"vmax\"].value\n",
    "    transform = MinMaxScaler(vmin=vmin, vmax=vmax)\n",
    "\n",
    "    dataset = DemoDataset(\n",
    "        n_sims = split.n_sims,\n",
    "        path_template=path_template,\n",
    "        handler=self.in_map.handler,\n",
    "        transform=transform\n",
    "        )\n",
    "    return dataset\n",
    "\n",
    "DemoPrepExecutor.set_up_dataset = set_up_dataset"
   ]
  },
  {
   "cell_type": "markdown",
   "metadata": {},
   "source": [
    "If you find the `path_template` a little confusing, consider the following:"
   ]
  },
  {
   "cell_type": "code",
   "execution_count": 40,
   "metadata": {},
   "outputs": [
    {
     "name": "stdout",
     "output_type": "stream",
     "text": [
      "a_b_c\n",
      "a_b_{param3}\n",
      "a_b_oh-I'll-use-c\n"
     ]
    }
   ],
   "source": [
    "# A demo string template\n",
    "string_template = \"{param1}_{param2}_{param3}\"\n",
    "\n",
    "# Formatting the string all at once\n",
    "settings1 = dict(param1=\"a\", param2=\"b\", param3=\"c\")\n",
    "s1 = string_template.format(**settings1)\n",
    "print(s1)\n",
    "\n",
    "# Formatting the portions of the string that I know, so I can defer param3\n",
    "settings2 = dict(param1=\"a\", param2=\"b\", param3=\"{param3}\")\n",
    "s2 = string_template.format(**settings2)\n",
    "print(s2)\n",
    "\n",
    "s3 = s2.format(param3=\"oh-I'll-use-c\")\n",
    "print(s3)"
   ]
  },
  {
   "cell_type": "markdown",
   "metadata": {},
   "source": [
    "When making the `path_template`, I do the same thing. The `name_tracker.sim_name_template` has a `sim_idx` tag which I will use in the Dataset."
   ]
  },
  {
   "cell_type": "markdown",
   "metadata": {},
   "source": [
    "Setting up the DataLoader is straightforward. I set a batch size of 1 because I want only a single instance at a time. I set `num_workers=0` so that loading occurs in the main thread."
   ]
  },
  {
   "cell_type": "code",
   "execution_count": 41,
   "metadata": {},
   "outputs": [],
   "source": [
    "def set_up_dataloader(self, dataset: Dataset) -> DataLoader:\n",
    "    dataloader = DataLoader(\n",
    "        dataset, \n",
    "        batch_size=1, \n",
    "        shuffle=False,\n",
    "        num_workers=0\n",
    "        )\n",
    "    return dataloader\n",
    "\n",
    "DemoPrepExecutor.set_up_dataloader = set_up_dataloader"
   ]
  },
  {
   "cell_type": "markdown",
   "metadata": {},
   "source": [
    "The last method is `process_split()`, which sets up the Dataset and DataLoader, then iterates through each instance using the dataloader.\n",
    "\n",
    "For each item, I have to convert from a tensor, back to a numpy array before saving the data."
   ]
  },
  {
   "cell_type": "code",
   "execution_count": 42,
   "metadata": {},
   "outputs": [],
   "source": [
    "def process_split(self, split):\n",
    "    dataset = self.set_up_dataset(split)\n",
    "    dataloader = self.set_up_dataloader(dataset)\n",
    "\n",
    "    with tqdm(dataloader, desc=f\"Scaling {split.name}\", postfix={'Loss': 0}) as pbar:\n",
    "        for item, sim_idx in pbar:\n",
    "            # Machine Learning here\n",
    "            # This example is fairly silly\n",
    "\n",
    "            # The item will have been prepped as a tensor with Batch size 1\n",
    "            # We just want the item itself as a numpy array\n",
    "            item = item.numpy()\n",
    "\n",
    "            sim_idx = int(sim_idx)\n",
    "            # Save the item, as preprocessed in the Dataloader\n",
    "            with self.name_tracker.set_context(\"sim_num\", sim_idx):\n",
    "                self.out_map.write(data=item)\n",
    "\n",
    "DemoPrepExecutor.process_split = process_split"
   ]
  },
  {
   "cell_type": "markdown",
   "metadata": {},
   "source": [
    "Note that \n",
    "```python\n",
    "    with tqdm(dataloader, desc=f\"Scaling\", postfix={'Loss': 0}) as pbar:\n",
    "        for item, sim_idx in pbar:\n",
    "```\n",
    "is equivalent to\n",
    "```python\n",
    "    for item, sim_idx in dataloader:\n",
    "```"
   ]
  },
  {
   "cell_type": "code",
   "execution_count": 43,
   "metadata": {},
   "outputs": [
    {
     "name": "stderr",
     "output_type": "stream",
     "text": [
      "Running DemoPrepExecutor execute()\n",
      "Scaling Train: 100%|██████████| 3/3 [00:00<00:00, 37.13it/s, Loss=0]\n",
      "Scaling Valid: 100%|██████████| 3/3 [00:00<00:00, 70.66it/s, Loss=0]\n",
      "Preprocessing complete.\n"
     ]
    }
   ],
   "source": [
    "executor = DemoPrepExecutor(cfg)\n",
    "executor.execute()"
   ]
  },
  {
   "cell_type": "markdown",
   "metadata": {},
   "source": [
    "I'll compare maps to confirm that they've been scaled:"
   ]
  },
  {
   "cell_type": "code",
   "execution_count": 44,
   "metadata": {},
   "outputs": [
    {
     "name": "stdout",
     "output_type": "stream",
     "text": [
      "Raw min: -4209.654314046516 uK_CMB, Raw max: 4237.788205500651 uK_CMB\n",
      "Prepped min: 0.05795794498073645, Prepped max: 0.9594106929676556\n"
     ]
    }
   ],
   "source": [
    "ex_ps2map = PS2MapExecutor(cfg)\n",
    "ex_prep = DemoPrepExecutor(cfg)\n",
    "\n",
    "with ex_ps2map.name_tracker.set_contexts({\"split\":\"Valid\", \"sim_num\":0}):\n",
    "    raw_map_path = ex_ps2map.out_map_asset.path\n",
    "\n",
    "out_raw_map = HealpyMap().read(raw_map_path)\n",
    "print(f\"Raw min: {out_raw_map.min()}, Raw max: {out_raw_map.max()}\")\n",
    "\n",
    "with ex_prep.name_tracker.set_contexts({\"split\":\"Valid\", \"sim_num\":0}):\n",
    "    out_prep_path = ex_prep.out_map.path\n",
    "\n",
    "out_prep_map = HealpyMap().read(out_prep_path)\n",
    "print(f\"Prepped min: {out_prep_map.min()}, Prepped max: {out_prep_map.max()}\")"
   ]
  },
  {
   "cell_type": "markdown",
   "metadata": {},
   "source": [
    "I suggest looking at the map as well. Since I'm going to repeat the process (and it's random pixels at this resolution), I'll do that in the next section."
   ]
  },
  {
   "cell_type": "markdown",
   "metadata": {},
   "source": [
    "# Full pipeline"
   ]
  },
  {
   "cell_type": "markdown",
   "metadata": {},
   "source": [
    "Now that each Executor has been built individually, the full pipeline can be run. Since I did all the development at a low $\\textrm{N}_\\textrm{side}=32$, I override the Hydra config to run at a larger $\\textrm{N}_\\textrm{side}=256$ (feel free to use greater resolution, this is done so that the size on disk is minimized)."
   ]
  },
  {
   "cell_type": "code",
   "execution_count": 45,
   "metadata": {},
   "outputs": [],
   "source": [
    "with initialize(version_base=None, config_path=\"../cfg\"):\n",
    "    cfg = compose(config_name=\"config_demoG_executors\", \n",
    "                  return_hydra_config=True,\n",
    "                  overrides=[\"nside=256\", \"splits='3-140'\"])\n",
    "    HydraConfig.instance().set_config(cfg)"
   ]
  },
  {
   "cell_type": "code",
   "execution_count": 46,
   "metadata": {},
   "outputs": [
    {
     "name": "stderr",
     "output_type": "stream",
     "text": [
      "Running MakePSExecutor execute()\n",
      "CMB power spectrum written to /data/jim/CMB_Data/Datasets2/DemoNotebook_256/A_PS_Setup/cmb_dummy_ps.fits\n",
      "Skipping stage logs for stage MakePSExecutor.\n",
      "Running PS2MapExecutor execute()\n",
      "Power spectrum read from /data/jim/CMB_Data/Datasets2/DemoNotebook_256/A_PS_Setup/cmb_dummy_ps.fits\n",
      "Working on split Train\n",
      "Working on sim 0000\n",
      "Map written to /data/jim/CMB_Data/Datasets2/DemoNotebook_256/B_CMB_Map/Train/sim0000/cmb_map.fits\n",
      "Working on sim 0001\n",
      "Map written to /data/jim/CMB_Data/Datasets2/DemoNotebook_256/B_CMB_Map/Train/sim0001/cmb_map.fits\n",
      "Working on sim 0002\n",
      "Map written to /data/jim/CMB_Data/Datasets2/DemoNotebook_256/B_CMB_Map/Train/sim0002/cmb_map.fits\n",
      "Working on sim 0003\n",
      "Map written to /data/jim/CMB_Data/Datasets2/DemoNotebook_256/B_CMB_Map/Train/sim0003/cmb_map.fits\n",
      "Working on sim 0004\n",
      "Map written to /data/jim/CMB_Data/Datasets2/DemoNotebook_256/B_CMB_Map/Train/sim0004/cmb_map.fits\n",
      "Working on sim 0005\n",
      "Map written to /data/jim/CMB_Data/Datasets2/DemoNotebook_256/B_CMB_Map/Train/sim0005/cmb_map.fits\n",
      "Working on sim 0006\n",
      "Map written to /data/jim/CMB_Data/Datasets2/DemoNotebook_256/B_CMB_Map/Train/sim0006/cmb_map.fits\n",
      "Working on sim 0007\n",
      "Map written to /data/jim/CMB_Data/Datasets2/DemoNotebook_256/B_CMB_Map/Train/sim0007/cmb_map.fits\n",
      "Working on sim 0008\n",
      "Map written to /data/jim/CMB_Data/Datasets2/DemoNotebook_256/B_CMB_Map/Train/sim0008/cmb_map.fits\n",
      "Working on sim 0009\n",
      "Map written to /data/jim/CMB_Data/Datasets2/DemoNotebook_256/B_CMB_Map/Train/sim0009/cmb_map.fits\n",
      "Working on sim 0010\n",
      "Map written to /data/jim/CMB_Data/Datasets2/DemoNotebook_256/B_CMB_Map/Train/sim0010/cmb_map.fits\n",
      "Working on sim 0011\n",
      "Map written to /data/jim/CMB_Data/Datasets2/DemoNotebook_256/B_CMB_Map/Train/sim0011/cmb_map.fits\n",
      "Working on sim 0012\n",
      "Map written to /data/jim/CMB_Data/Datasets2/DemoNotebook_256/B_CMB_Map/Train/sim0012/cmb_map.fits\n",
      "Working on sim 0013\n",
      "Map written to /data/jim/CMB_Data/Datasets2/DemoNotebook_256/B_CMB_Map/Train/sim0013/cmb_map.fits\n",
      "Working on sim 0014\n",
      "Map written to /data/jim/CMB_Data/Datasets2/DemoNotebook_256/B_CMB_Map/Train/sim0014/cmb_map.fits\n",
      "Working on sim 0015\n",
      "Map written to /data/jim/CMB_Data/Datasets2/DemoNotebook_256/B_CMB_Map/Train/sim0015/cmb_map.fits\n",
      "Working on sim 0016\n",
      "Map written to /data/jim/CMB_Data/Datasets2/DemoNotebook_256/B_CMB_Map/Train/sim0016/cmb_map.fits\n",
      "Working on sim 0017\n",
      "Map written to /data/jim/CMB_Data/Datasets2/DemoNotebook_256/B_CMB_Map/Train/sim0017/cmb_map.fits\n",
      "Working on sim 0018\n",
      "Map written to /data/jim/CMB_Data/Datasets2/DemoNotebook_256/B_CMB_Map/Train/sim0018/cmb_map.fits\n",
      "Working on sim 0019\n",
      "Map written to /data/jim/CMB_Data/Datasets2/DemoNotebook_256/B_CMB_Map/Train/sim0019/cmb_map.fits\n",
      "Working on sim 0020\n",
      "Map written to /data/jim/CMB_Data/Datasets2/DemoNotebook_256/B_CMB_Map/Train/sim0020/cmb_map.fits\n",
      "Working on sim 0021\n",
      "Map written to /data/jim/CMB_Data/Datasets2/DemoNotebook_256/B_CMB_Map/Train/sim0021/cmb_map.fits\n",
      "Working on sim 0022\n",
      "Map written to /data/jim/CMB_Data/Datasets2/DemoNotebook_256/B_CMB_Map/Train/sim0022/cmb_map.fits\n",
      "Working on sim 0023\n",
      "Map written to /data/jim/CMB_Data/Datasets2/DemoNotebook_256/B_CMB_Map/Train/sim0023/cmb_map.fits\n",
      "Working on sim 0024\n",
      "Map written to /data/jim/CMB_Data/Datasets2/DemoNotebook_256/B_CMB_Map/Train/sim0024/cmb_map.fits\n",
      "Working on sim 0025\n",
      "Map written to /data/jim/CMB_Data/Datasets2/DemoNotebook_256/B_CMB_Map/Train/sim0025/cmb_map.fits\n",
      "Working on sim 0026\n",
      "Map written to /data/jim/CMB_Data/Datasets2/DemoNotebook_256/B_CMB_Map/Train/sim0026/cmb_map.fits\n",
      "Working on sim 0027\n",
      "Map written to /data/jim/CMB_Data/Datasets2/DemoNotebook_256/B_CMB_Map/Train/sim0027/cmb_map.fits\n",
      "Working on sim 0028\n",
      "Map written to /data/jim/CMB_Data/Datasets2/DemoNotebook_256/B_CMB_Map/Train/sim0028/cmb_map.fits\n",
      "Working on sim 0029\n",
      "Map written to /data/jim/CMB_Data/Datasets2/DemoNotebook_256/B_CMB_Map/Train/sim0029/cmb_map.fits\n",
      "Working on sim 0030\n",
      "Map written to /data/jim/CMB_Data/Datasets2/DemoNotebook_256/B_CMB_Map/Train/sim0030/cmb_map.fits\n",
      "Working on sim 0031\n",
      "Map written to /data/jim/CMB_Data/Datasets2/DemoNotebook_256/B_CMB_Map/Train/sim0031/cmb_map.fits\n",
      "Working on sim 0032\n",
      "Map written to /data/jim/CMB_Data/Datasets2/DemoNotebook_256/B_CMB_Map/Train/sim0032/cmb_map.fits\n",
      "Working on sim 0033\n",
      "Map written to /data/jim/CMB_Data/Datasets2/DemoNotebook_256/B_CMB_Map/Train/sim0033/cmb_map.fits\n",
      "Working on sim 0034\n",
      "Map written to /data/jim/CMB_Data/Datasets2/DemoNotebook_256/B_CMB_Map/Train/sim0034/cmb_map.fits\n",
      "Working on sim 0035\n",
      "Map written to /data/jim/CMB_Data/Datasets2/DemoNotebook_256/B_CMB_Map/Train/sim0035/cmb_map.fits\n",
      "Working on sim 0036\n",
      "Map written to /data/jim/CMB_Data/Datasets2/DemoNotebook_256/B_CMB_Map/Train/sim0036/cmb_map.fits\n",
      "Working on sim 0037\n",
      "Map written to /data/jim/CMB_Data/Datasets2/DemoNotebook_256/B_CMB_Map/Train/sim0037/cmb_map.fits\n",
      "Working on sim 0038\n",
      "Map written to /data/jim/CMB_Data/Datasets2/DemoNotebook_256/B_CMB_Map/Train/sim0038/cmb_map.fits\n",
      "Working on sim 0039\n",
      "Map written to /data/jim/CMB_Data/Datasets2/DemoNotebook_256/B_CMB_Map/Train/sim0039/cmb_map.fits\n",
      "Working on sim 0040\n",
      "Map written to /data/jim/CMB_Data/Datasets2/DemoNotebook_256/B_CMB_Map/Train/sim0040/cmb_map.fits\n",
      "Working on sim 0041\n",
      "Map written to /data/jim/CMB_Data/Datasets2/DemoNotebook_256/B_CMB_Map/Train/sim0041/cmb_map.fits\n",
      "Working on sim 0042\n",
      "Map written to /data/jim/CMB_Data/Datasets2/DemoNotebook_256/B_CMB_Map/Train/sim0042/cmb_map.fits\n",
      "Working on sim 0043\n",
      "Map written to /data/jim/CMB_Data/Datasets2/DemoNotebook_256/B_CMB_Map/Train/sim0043/cmb_map.fits\n",
      "Working on sim 0044\n",
      "Map written to /data/jim/CMB_Data/Datasets2/DemoNotebook_256/B_CMB_Map/Train/sim0044/cmb_map.fits\n",
      "Working on sim 0045\n",
      "Map written to /data/jim/CMB_Data/Datasets2/DemoNotebook_256/B_CMB_Map/Train/sim0045/cmb_map.fits\n",
      "Working on sim 0046\n",
      "Map written to /data/jim/CMB_Data/Datasets2/DemoNotebook_256/B_CMB_Map/Train/sim0046/cmb_map.fits\n",
      "Working on sim 0047\n",
      "Map written to /data/jim/CMB_Data/Datasets2/DemoNotebook_256/B_CMB_Map/Train/sim0047/cmb_map.fits\n",
      "Working on sim 0048\n",
      "Map written to /data/jim/CMB_Data/Datasets2/DemoNotebook_256/B_CMB_Map/Train/sim0048/cmb_map.fits\n",
      "Working on sim 0049\n",
      "Map written to /data/jim/CMB_Data/Datasets2/DemoNotebook_256/B_CMB_Map/Train/sim0049/cmb_map.fits\n",
      "Working on sim 0050\n",
      "Map written to /data/jim/CMB_Data/Datasets2/DemoNotebook_256/B_CMB_Map/Train/sim0050/cmb_map.fits\n",
      "Working on sim 0051\n",
      "Map written to /data/jim/CMB_Data/Datasets2/DemoNotebook_256/B_CMB_Map/Train/sim0051/cmb_map.fits\n",
      "Working on sim 0052\n",
      "Map written to /data/jim/CMB_Data/Datasets2/DemoNotebook_256/B_CMB_Map/Train/sim0052/cmb_map.fits\n",
      "Working on sim 0053\n",
      "Map written to /data/jim/CMB_Data/Datasets2/DemoNotebook_256/B_CMB_Map/Train/sim0053/cmb_map.fits\n",
      "Working on sim 0054\n",
      "Map written to /data/jim/CMB_Data/Datasets2/DemoNotebook_256/B_CMB_Map/Train/sim0054/cmb_map.fits\n",
      "Working on sim 0055\n",
      "Map written to /data/jim/CMB_Data/Datasets2/DemoNotebook_256/B_CMB_Map/Train/sim0055/cmb_map.fits\n",
      "Working on sim 0056\n",
      "Map written to /data/jim/CMB_Data/Datasets2/DemoNotebook_256/B_CMB_Map/Train/sim0056/cmb_map.fits\n",
      "Working on sim 0057\n",
      "Map written to /data/jim/CMB_Data/Datasets2/DemoNotebook_256/B_CMB_Map/Train/sim0057/cmb_map.fits\n",
      "Working on sim 0058\n",
      "Map written to /data/jim/CMB_Data/Datasets2/DemoNotebook_256/B_CMB_Map/Train/sim0058/cmb_map.fits\n",
      "Working on sim 0059\n",
      "Map written to /data/jim/CMB_Data/Datasets2/DemoNotebook_256/B_CMB_Map/Train/sim0059/cmb_map.fits\n",
      "Working on sim 0060\n",
      "Map written to /data/jim/CMB_Data/Datasets2/DemoNotebook_256/B_CMB_Map/Train/sim0060/cmb_map.fits\n",
      "Working on sim 0061\n",
      "Map written to /data/jim/CMB_Data/Datasets2/DemoNotebook_256/B_CMB_Map/Train/sim0061/cmb_map.fits\n",
      "Working on sim 0062\n",
      "Map written to /data/jim/CMB_Data/Datasets2/DemoNotebook_256/B_CMB_Map/Train/sim0062/cmb_map.fits\n",
      "Working on sim 0063\n",
      "Map written to /data/jim/CMB_Data/Datasets2/DemoNotebook_256/B_CMB_Map/Train/sim0063/cmb_map.fits\n",
      "Working on sim 0064\n",
      "Map written to /data/jim/CMB_Data/Datasets2/DemoNotebook_256/B_CMB_Map/Train/sim0064/cmb_map.fits\n",
      "Working on sim 0065\n",
      "Map written to /data/jim/CMB_Data/Datasets2/DemoNotebook_256/B_CMB_Map/Train/sim0065/cmb_map.fits\n",
      "Working on sim 0066\n",
      "Map written to /data/jim/CMB_Data/Datasets2/DemoNotebook_256/B_CMB_Map/Train/sim0066/cmb_map.fits\n",
      "Working on sim 0067\n",
      "Map written to /data/jim/CMB_Data/Datasets2/DemoNotebook_256/B_CMB_Map/Train/sim0067/cmb_map.fits\n",
      "Working on sim 0068\n",
      "Map written to /data/jim/CMB_Data/Datasets2/DemoNotebook_256/B_CMB_Map/Train/sim0068/cmb_map.fits\n",
      "Working on sim 0069\n",
      "Map written to /data/jim/CMB_Data/Datasets2/DemoNotebook_256/B_CMB_Map/Train/sim0069/cmb_map.fits\n",
      "Working on sim 0070\n",
      "Map written to /data/jim/CMB_Data/Datasets2/DemoNotebook_256/B_CMB_Map/Train/sim0070/cmb_map.fits\n",
      "Working on sim 0071\n",
      "Map written to /data/jim/CMB_Data/Datasets2/DemoNotebook_256/B_CMB_Map/Train/sim0071/cmb_map.fits\n",
      "Working on sim 0072\n",
      "Map written to /data/jim/CMB_Data/Datasets2/DemoNotebook_256/B_CMB_Map/Train/sim0072/cmb_map.fits\n",
      "Working on sim 0073\n",
      "Map written to /data/jim/CMB_Data/Datasets2/DemoNotebook_256/B_CMB_Map/Train/sim0073/cmb_map.fits\n",
      "Working on sim 0074\n",
      "Map written to /data/jim/CMB_Data/Datasets2/DemoNotebook_256/B_CMB_Map/Train/sim0074/cmb_map.fits\n",
      "Working on sim 0075\n",
      "Map written to /data/jim/CMB_Data/Datasets2/DemoNotebook_256/B_CMB_Map/Train/sim0075/cmb_map.fits\n",
      "Working on sim 0076\n",
      "Map written to /data/jim/CMB_Data/Datasets2/DemoNotebook_256/B_CMB_Map/Train/sim0076/cmb_map.fits\n",
      "Working on sim 0077\n",
      "Map written to /data/jim/CMB_Data/Datasets2/DemoNotebook_256/B_CMB_Map/Train/sim0077/cmb_map.fits\n",
      "Working on sim 0078\n",
      "Map written to /data/jim/CMB_Data/Datasets2/DemoNotebook_256/B_CMB_Map/Train/sim0078/cmb_map.fits\n",
      "Working on sim 0079\n",
      "Map written to /data/jim/CMB_Data/Datasets2/DemoNotebook_256/B_CMB_Map/Train/sim0079/cmb_map.fits\n",
      "Working on sim 0080\n",
      "Map written to /data/jim/CMB_Data/Datasets2/DemoNotebook_256/B_CMB_Map/Train/sim0080/cmb_map.fits\n",
      "Working on sim 0081\n",
      "Map written to /data/jim/CMB_Data/Datasets2/DemoNotebook_256/B_CMB_Map/Train/sim0081/cmb_map.fits\n",
      "Working on sim 0082\n",
      "Map written to /data/jim/CMB_Data/Datasets2/DemoNotebook_256/B_CMB_Map/Train/sim0082/cmb_map.fits\n",
      "Working on sim 0083\n",
      "Map written to /data/jim/CMB_Data/Datasets2/DemoNotebook_256/B_CMB_Map/Train/sim0083/cmb_map.fits\n",
      "Working on sim 0084\n",
      "Map written to /data/jim/CMB_Data/Datasets2/DemoNotebook_256/B_CMB_Map/Train/sim0084/cmb_map.fits\n",
      "Working on sim 0085\n",
      "Map written to /data/jim/CMB_Data/Datasets2/DemoNotebook_256/B_CMB_Map/Train/sim0085/cmb_map.fits\n",
      "Working on sim 0086\n",
      "Map written to /data/jim/CMB_Data/Datasets2/DemoNotebook_256/B_CMB_Map/Train/sim0086/cmb_map.fits\n",
      "Working on sim 0087\n",
      "Map written to /data/jim/CMB_Data/Datasets2/DemoNotebook_256/B_CMB_Map/Train/sim0087/cmb_map.fits\n",
      "Working on sim 0088\n",
      "Map written to /data/jim/CMB_Data/Datasets2/DemoNotebook_256/B_CMB_Map/Train/sim0088/cmb_map.fits\n",
      "Working on sim 0089\n",
      "Map written to /data/jim/CMB_Data/Datasets2/DemoNotebook_256/B_CMB_Map/Train/sim0089/cmb_map.fits\n",
      "Working on sim 0090\n",
      "Map written to /data/jim/CMB_Data/Datasets2/DemoNotebook_256/B_CMB_Map/Train/sim0090/cmb_map.fits\n",
      "Working on sim 0091\n",
      "Map written to /data/jim/CMB_Data/Datasets2/DemoNotebook_256/B_CMB_Map/Train/sim0091/cmb_map.fits\n",
      "Working on sim 0092\n",
      "Map written to /data/jim/CMB_Data/Datasets2/DemoNotebook_256/B_CMB_Map/Train/sim0092/cmb_map.fits\n",
      "Working on sim 0093\n",
      "Map written to /data/jim/CMB_Data/Datasets2/DemoNotebook_256/B_CMB_Map/Train/sim0093/cmb_map.fits\n",
      "Working on sim 0094\n",
      "Map written to /data/jim/CMB_Data/Datasets2/DemoNotebook_256/B_CMB_Map/Train/sim0094/cmb_map.fits\n",
      "Working on sim 0095\n",
      "Map written to /data/jim/CMB_Data/Datasets2/DemoNotebook_256/B_CMB_Map/Train/sim0095/cmb_map.fits\n",
      "Working on sim 0096\n",
      "Map written to /data/jim/CMB_Data/Datasets2/DemoNotebook_256/B_CMB_Map/Train/sim0096/cmb_map.fits\n",
      "Working on sim 0097\n",
      "Map written to /data/jim/CMB_Data/Datasets2/DemoNotebook_256/B_CMB_Map/Train/sim0097/cmb_map.fits\n",
      "Working on sim 0098\n",
      "Map written to /data/jim/CMB_Data/Datasets2/DemoNotebook_256/B_CMB_Map/Train/sim0098/cmb_map.fits\n",
      "Working on sim 0099\n",
      "Map written to /data/jim/CMB_Data/Datasets2/DemoNotebook_256/B_CMB_Map/Train/sim0099/cmb_map.fits\n",
      "Working on split Valid\n",
      "Working on sim 0000\n",
      "Map written to /data/jim/CMB_Data/Datasets2/DemoNotebook_256/B_CMB_Map/Valid/sim0000/cmb_map.fits\n",
      "Working on sim 0001\n",
      "Map written to /data/jim/CMB_Data/Datasets2/DemoNotebook_256/B_CMB_Map/Valid/sim0001/cmb_map.fits\n",
      "Working on sim 0002\n",
      "Map written to /data/jim/CMB_Data/Datasets2/DemoNotebook_256/B_CMB_Map/Valid/sim0002/cmb_map.fits\n",
      "Working on sim 0003\n",
      "Map written to /data/jim/CMB_Data/Datasets2/DemoNotebook_256/B_CMB_Map/Valid/sim0003/cmb_map.fits\n",
      "Working on sim 0004\n",
      "Map written to /data/jim/CMB_Data/Datasets2/DemoNotebook_256/B_CMB_Map/Valid/sim0004/cmb_map.fits\n",
      "Working on sim 0005\n",
      "Map written to /data/jim/CMB_Data/Datasets2/DemoNotebook_256/B_CMB_Map/Valid/sim0005/cmb_map.fits\n",
      "Working on sim 0006\n",
      "Map written to /data/jim/CMB_Data/Datasets2/DemoNotebook_256/B_CMB_Map/Valid/sim0006/cmb_map.fits\n",
      "Working on sim 0007\n",
      "Map written to /data/jim/CMB_Data/Datasets2/DemoNotebook_256/B_CMB_Map/Valid/sim0007/cmb_map.fits\n",
      "Working on sim 0008\n",
      "Map written to /data/jim/CMB_Data/Datasets2/DemoNotebook_256/B_CMB_Map/Valid/sim0008/cmb_map.fits\n",
      "Working on sim 0009\n",
      "Map written to /data/jim/CMB_Data/Datasets2/DemoNotebook_256/B_CMB_Map/Valid/sim0009/cmb_map.fits\n",
      "Working on sim 0010\n",
      "Map written to /data/jim/CMB_Data/Datasets2/DemoNotebook_256/B_CMB_Map/Valid/sim0010/cmb_map.fits\n",
      "Working on sim 0011\n",
      "Map written to /data/jim/CMB_Data/Datasets2/DemoNotebook_256/B_CMB_Map/Valid/sim0011/cmb_map.fits\n",
      "Working on sim 0012\n",
      "Map written to /data/jim/CMB_Data/Datasets2/DemoNotebook_256/B_CMB_Map/Valid/sim0012/cmb_map.fits\n",
      "Working on sim 0013\n",
      "Map written to /data/jim/CMB_Data/Datasets2/DemoNotebook_256/B_CMB_Map/Valid/sim0013/cmb_map.fits\n",
      "Working on sim 0014\n",
      "Map written to /data/jim/CMB_Data/Datasets2/DemoNotebook_256/B_CMB_Map/Valid/sim0014/cmb_map.fits\n",
      "Working on sim 0015\n",
      "Map written to /data/jim/CMB_Data/Datasets2/DemoNotebook_256/B_CMB_Map/Valid/sim0015/cmb_map.fits\n",
      "Working on sim 0016\n",
      "Map written to /data/jim/CMB_Data/Datasets2/DemoNotebook_256/B_CMB_Map/Valid/sim0016/cmb_map.fits\n",
      "Working on sim 0017\n",
      "Map written to /data/jim/CMB_Data/Datasets2/DemoNotebook_256/B_CMB_Map/Valid/sim0017/cmb_map.fits\n",
      "Working on sim 0018\n",
      "Map written to /data/jim/CMB_Data/Datasets2/DemoNotebook_256/B_CMB_Map/Valid/sim0018/cmb_map.fits\n",
      "Working on sim 0019\n",
      "Map written to /data/jim/CMB_Data/Datasets2/DemoNotebook_256/B_CMB_Map/Valid/sim0019/cmb_map.fits\n",
      "Working on split Test\n",
      "Working on sim 0000\n",
      "Map written to /data/jim/CMB_Data/Datasets2/DemoNotebook_256/B_CMB_Map/Test/sim0000/cmb_map.fits\n",
      "Working on sim 0001\n",
      "Map written to /data/jim/CMB_Data/Datasets2/DemoNotebook_256/B_CMB_Map/Test/sim0001/cmb_map.fits\n",
      "Working on sim 0002\n",
      "Map written to /data/jim/CMB_Data/Datasets2/DemoNotebook_256/B_CMB_Map/Test/sim0002/cmb_map.fits\n",
      "Working on sim 0003\n",
      "Map written to /data/jim/CMB_Data/Datasets2/DemoNotebook_256/B_CMB_Map/Test/sim0003/cmb_map.fits\n",
      "Working on sim 0004\n",
      "Map written to /data/jim/CMB_Data/Datasets2/DemoNotebook_256/B_CMB_Map/Test/sim0004/cmb_map.fits\n",
      "Working on sim 0005\n",
      "Map written to /data/jim/CMB_Data/Datasets2/DemoNotebook_256/B_CMB_Map/Test/sim0005/cmb_map.fits\n",
      "Working on sim 0006\n",
      "Map written to /data/jim/CMB_Data/Datasets2/DemoNotebook_256/B_CMB_Map/Test/sim0006/cmb_map.fits\n",
      "Working on sim 0007\n",
      "Map written to /data/jim/CMB_Data/Datasets2/DemoNotebook_256/B_CMB_Map/Test/sim0007/cmb_map.fits\n",
      "Working on sim 0008\n",
      "Map written to /data/jim/CMB_Data/Datasets2/DemoNotebook_256/B_CMB_Map/Test/sim0008/cmb_map.fits\n",
      "Working on sim 0009\n",
      "Map written to /data/jim/CMB_Data/Datasets2/DemoNotebook_256/B_CMB_Map/Test/sim0009/cmb_map.fits\n",
      "Working on sim 0010\n",
      "Map written to /data/jim/CMB_Data/Datasets2/DemoNotebook_256/B_CMB_Map/Test/sim0010/cmb_map.fits\n",
      "Working on sim 0011\n",
      "Map written to /data/jim/CMB_Data/Datasets2/DemoNotebook_256/B_CMB_Map/Test/sim0011/cmb_map.fits\n",
      "Working on sim 0012\n",
      "Map written to /data/jim/CMB_Data/Datasets2/DemoNotebook_256/B_CMB_Map/Test/sim0012/cmb_map.fits\n",
      "Working on sim 0013\n",
      "Map written to /data/jim/CMB_Data/Datasets2/DemoNotebook_256/B_CMB_Map/Test/sim0013/cmb_map.fits\n",
      "Working on sim 0014\n",
      "Map written to /data/jim/CMB_Data/Datasets2/DemoNotebook_256/B_CMB_Map/Test/sim0014/cmb_map.fits\n",
      "Working on sim 0015\n",
      "Map written to /data/jim/CMB_Data/Datasets2/DemoNotebook_256/B_CMB_Map/Test/sim0015/cmb_map.fits\n",
      "Working on sim 0016\n",
      "Map written to /data/jim/CMB_Data/Datasets2/DemoNotebook_256/B_CMB_Map/Test/sim0016/cmb_map.fits\n",
      "Working on sim 0017\n",
      "Map written to /data/jim/CMB_Data/Datasets2/DemoNotebook_256/B_CMB_Map/Test/sim0017/cmb_map.fits\n",
      "Working on sim 0018\n",
      "Map written to /data/jim/CMB_Data/Datasets2/DemoNotebook_256/B_CMB_Map/Test/sim0018/cmb_map.fits\n",
      "Working on sim 0019\n",
      "Map written to /data/jim/CMB_Data/Datasets2/DemoNotebook_256/B_CMB_Map/Test/sim0019/cmb_map.fits\n",
      "Running ParallelFindStatsExecutor execute().\n",
      "100%|██████████| 120/120 [00:00<00:00, 288.30it/s]\n",
      "Skipping stage logs for stage ParallelFindStatsExecutor.\n",
      "Running DemoPrepExecutor execute()\n",
      "Scaling Train: 100%|██████████| 100/100 [00:03<00:00, 28.37it/s, Loss=0]\n",
      "Scaling Valid: 100%|██████████| 20/20 [00:00<00:00, 37.32it/s, Loss=0]\n",
      "Preprocessing complete.\n",
      "Skipping stage logs for stage DemoPrepExecutor.\n",
      "Pipeline completed.\n"
     ]
    }
   ],
   "source": [
    "pipeline_context = PipelineContext(cfg)\n",
    "\n",
    "pipeline_context.add_pipe(MakePSExecutor)\n",
    "pipeline_context.add_pipe(PS2MapExecutor)\n",
    "pipeline_context.add_pipe(ParallelFindStatsExecutor)\n",
    "pipeline_context.add_pipe(DemoPrepExecutor)\n",
    "\n",
    "pipeline_context.prerun_pipeline()\n",
    "\n",
    "try:\n",
    "    pipeline_context.run_pipeline()\n",
    "except Exception as e:\n",
    "    # I typically use the logging library for these messages\n",
    "    logger.warning(\"An exception occured during the pipeline.\", exc_info=e)\n",
    "    raise e\n",
    "finally:\n",
    "    logger.info(\"Pipeline completed.\")"
   ]
  },
  {
   "cell_type": "markdown",
   "metadata": {},
   "source": [
    "Again, let's check that the results make sense. I'll first look at the min and max values for the first simulation, both raw and preprocessed."
   ]
  },
  {
   "cell_type": "code",
   "execution_count": 47,
   "metadata": {},
   "outputs": [
    {
     "name": "stdout",
     "output_type": "stream",
     "text": [
      "Raw min: -17427.979305772238 uK_CMB, Raw max: 15925.552485695414 uK_CMB\n",
      "Prepped min: 0.09891185822407735, Prepped max: 0.9153398829389459\n"
     ]
    }
   ],
   "source": [
    "ex_ps2map = PS2MapExecutor(cfg)\n",
    "ex_prep = DemoPrepExecutor(cfg)\n",
    "\n",
    "with ex_ps2map.name_tracker.set_contexts({\"split\":\"Valid\", \"sim_num\":0}):\n",
    "    raw_map_path = ex_ps2map.out_map_asset.path\n",
    "\n",
    "out_raw_map = HealpyMap().read(raw_map_path)\n",
    "print(f\"Raw min: {out_raw_map.min()}, Raw max: {out_raw_map.max()}\")\n",
    "\n",
    "with ex_prep.name_tracker.set_contexts({\"split\":\"Valid\", \"sim_num\":0}):\n",
    "    out_prep_path = ex_prep.out_map.path\n",
    "\n",
    "out_prep_map = HealpyMap().read(out_prep_path)\n",
    "print(f\"Prepped min: {out_prep_map.min()}, Prepped max: {out_prep_map.max()}\")"
   ]
  },
  {
   "cell_type": "markdown",
   "metadata": {},
   "source": [
    "And to check for anything strange, I'll look at the maps as well."
   ]
  },
  {
   "cell_type": "code",
   "execution_count": 48,
   "metadata": {},
   "outputs": [
    {
     "data": {
      "image/png": "[encoded data removed]",
      "text/plain": [
       "<Figure size 600x300 with 2 Axes>"
      ]
     },
     "metadata": {},
     "output_type": "display_data"
    },
    {
     "data": {
      "image/png": "[encoded data removed]",
      "text/plain": [
       "<Figure size 600x300 with 2 Axes>"
      ]
     },
     "metadata": {},
     "output_type": "display_data"
    }
   ],
   "source": [
    "import matplotlib.pyplot as plt\n",
    "\n",
    "fig = plt.figure(figsize=(6, 3))\n",
    "hp.mollview(out_raw_map[0], title=\"Raw Map\", hold=True)\n",
    "plt.show()\n",
    "\n",
    "fig = plt.figure(figsize=(6, 3))\n",
    "hp.mollview(out_prep_map[0], title=\"Preprocessed Map\", hold=True)\n",
    "plt.show()"
   ]
  },
  {
   "cell_type": "markdown",
   "metadata": {},
   "source": [
    "Those look good to me! Note that the true maximum and minimum values reported will not match the scale bars. The scale bars are the maximum and minimum for the data *as projected to the map*, and so they are often the average of some number of map pixels."
   ]
  },
  {
   "cell_type": "markdown",
   "metadata": {},
   "source": [
    "# Conclusion"
   ]
  },
  {
   "cell_type": "markdown",
   "metadata": {},
   "source": [
    "This notebook illustrated several different structures of Executors. To recap\n",
    "\n",
    "- A **basic executor** runs once, producing one asset globally and doesn't consider different simulations\n",
    "- A **serial executor** iterates over simulations one-by-one. It may be slow, but it's appropriate when parallelization doesn't work, such as when a method in another library already uses multiple threads (e.g., ANAFAST)\n",
    "- A **parallel executor** iterates over simulations by creating tasks and worker threads to process each task. It can be much faster, but more complicated.\n",
    "- A **PyTorch-centric executor** iterates over simulations using PyTorch's Dataset class. It's ideal for machine learning, but more complicated."
   ]
  },
  {
   "cell_type": "markdown",
   "metadata": {},
   "source": [
    "The examples in this notebook are simplified versions of the ones practically used. For a more in-depth looks at the different styles, here's a list of modules to serve as reasonable prototypes.\n",
    "\n",
    "Basic Executor:\n",
    "- [Downloading External Science Assets](../get_data/stage_executors/A_get_assets.py)\n",
    "- [Checking Hydra Configs before Simulations](../cmbml/sims/stage_executors/A_check_sims_hydra_configs.py)\n",
    "- [Making the Noise Cache for Simulations](../cmbml/sims/stage_executors/B_make_noise_cache.py)\n",
    "- [Final Comparison of Pixel-Space Results](../cmbml/analysis/stage_executors/_13_pixel_compare_table.py)\n",
    "\n",
    "Serial Executor:\n",
    "- [Simulation of Observations](../cmbml/sims/stage_executors/H_make_observations.py)\n",
    "- [Simulation of Noise](../cmbml/sims/stage_executors/I_make_noise.py)\n",
    "- [Simulation of Power Spectra](../cmbml/sims/stage_executors/G_make_power_spectra.py)\n",
    "- [Making PyILC Predictions](../cmbml/pyilc_local/B_predict_executor.py)\n",
    "- [Preprocessing cmbNNCS](../cmbml/cmbnncs_local/stage_executors/C_preprocess_nonparallel.py)\n",
    "- [Postprocessing cmbNNCS](../cmbml/cmbnncs_local/stage_executors/F_postprocess_nonparallel.py)\n",
    "- [Scanning for PatchNN](../cmbml/demo_patch_nn/stage_executors/C_find_dataset_stats_serial.py)\n",
    "- [Preprocessing for PatchNN](../cmbml/demo_patch_nn/stage_executors/D_preprocess_patches_serial.py)\n",
    "- [Postprocessing Common](../cmbml/analysis/stage_executors/D_common_map_post.py) (Common for all methods)\n",
    "- [Analysis: Producing Power Spectra](../cmbml/analysis/stage_executors/K_make_pred_ps.py)\n",
    "\n",
    "Parallel Executor:\n",
    "- [Preprocessing for cmbNNCS](../cmbml/cmbnncs_local/stage_executors/C_preprocess.py)\n",
    "- [Postprocessing cmbNNCS](../cmbml/cmbnncs_local/stage_executors/F_postprocess.py)\n",
    "- [Scanning for PatchNN](../cmbml/demo_patch_nn/stage_executors/C_find_dataset_stats_parallel.py)\n",
    "- [Analysis: Pixel-level Statistics](../cmbml/analysis/stage_executors/F_pixel_analysis.py)\n",
    "- [Analysis: Power Spectrum Statistics](../cmbml/analysis/stage_executors/L_ps_analysis.py)\n",
    "\n",
    "PyTorch-Centric Executor:\n",
    "- [Training cmbNNCS](../cmbml/cmbnncs_local/stage_executors/D_train.py)\n",
    "- [Prediction cmbNNCS](../cmbml/cmbnncs_local/stage_executors/E_predict.py)\n",
    "- [Training PatchNN](../cmbml/demo_patch_nn/stage_executors/E_train.py)\n",
    "- [Training PatchNN, without advance Preprocessing](../cmbml/demo_patch_nn/stage_executors/E_train_no_preprocess.py)\n",
    "- [Prediction PatchNN](../cmbml/demo_patch_nn/stage_executors/F_predict.py)"
   ]
  },
  {
   "cell_type": "markdown",
   "metadata": {},
   "source": [
    "I hope that this has been helpful. This is the end of the demonstrations, for now. There are others I'd like to produce. If there's anything you'd like to see, please contact us through the GitHub.\n",
    "\n",
    "<!-- I have one more notebook that I'd like to put together, which will cover:\n",
    "- Different detector frequencies\n",
    "- How PySM3 is used\n",
    "- How matplotlib is used -->"
   ]
  }
 ],
 "metadata": {
  "kernelspec": {
   "display_name": "cmb-ml2",
   "language": "python",
   "name": "python3"
  },
  "language_info": {
   "codemirror_mode": {
    "name": "ipython",
    "version": 3
   },
   "file_extension": ".py",
   "mimetype": "text/x-python",
   "name": "python",
   "nbconvert_exporter": "python",
   "pygments_lexer": "ipython3",
   "version": "3.9.21"
  }
 },
 "nbformat": 4,
 "nbformat_minor": 2
}
