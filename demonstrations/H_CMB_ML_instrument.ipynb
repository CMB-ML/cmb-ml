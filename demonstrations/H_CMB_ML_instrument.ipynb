{
 "cells": [
  {
   "cell_type": "markdown",
   "metadata": {},
   "source": [
    "In this last notebook, I want to cover a two more topics. The most essential is the Instrument and everything associated which handles different detector frequencies. This will also cover how I use PySM3 to generate simulations and how I use matplotlib to produce figures.\n",
    "\n",
    "NOTE TO SELF: IS THIS NEEDED?"
   ]
  },
  {
   "cell_type": "markdown",
   "metadata": {},
   "source": [
    "# Matplotlib Executor: Seeing Results"
   ]
  },
  {
   "cell_type": "markdown",
   "metadata": {},
   "source": [
    "In this last example, I want to show a few things that appear in Analysis stages, where Matplotlib is used. Some points to watch for:\n",
    "- The assets in need to change asset labels\n",
    "- To avoid conflict with Matplotlib, the AssetHandler is indirect\n",
    "- I override the number of simulations to process, producing a limited number of figures\n",
    "\n",
    "These Executors tend to be some of the most finicky. This is where I tend to depart from my goals of having all parameters in the configuration files, simply because there are so many configuration options and because the combination of healpy and matplotlib need a lot of adjustments."
   ]
  },
  {
   "cell_type": "markdown",
   "metadata": {},
   "source": [
    "# Configuration YAML"
   ]
  },
  {
   "cell_type": "markdown",
   "metadata": {},
   "source": [
    "YAML set up for G_, but ... I want to be done and do something else (and it's SUPER LONG ALREADY)\n",
    "```yaml\n",
    "  figure:\n",
    "    assets_out:\n",
    "      compare_fig:\n",
    "        handler: Mover\n",
    "        path_template: \"{root}/{dataset}/{stage}/{split}/{sim}/compare_fig.png\"\n",
    "    assets_in:\n",
    "      cmb_raw: {stage: ps2map, orig_name: cmb_map}\n",
    "      cmb_prep: {stage: prep, orig_name: cmb_map}\n",
    "    dir_name: E_Figure\n",
    "    splits: valid\n",
    "    make_stage_log: false\n",
    "```"
   ]
  },
  {
   "cell_type": "markdown",
   "metadata": {},
   "source": [
    "First, I get my stage set up. The output is going to be a figure. To make this, I need both the raw map and the preprocessed map."
   ]
  },
  {
   "cell_type": "code",
   "execution_count": null,
   "metadata": {
    "vscode": {
     "languageId": "plaintext"
    }
   },
   "outputs": [],
   "source": [
    "print(OmegaConf.to_yaml(cfg.pipeline.figure))"
   ]
  },
  {
   "cell_type": "markdown",
   "metadata": {},
   "source": [
    "Notice that the first in `assets_in` is `cmb_raw`, which draws from the `ps2map` stage."
   ]
  },
  {
   "cell_type": "code",
   "execution_count": null,
   "metadata": {
    "vscode": {
     "languageId": "plaintext"
    }
   },
   "outputs": [],
   "source": [
    "print(OmegaConf.to_yaml(cfg.pipeline.ps2map.assets_out))"
   ]
  },
  {
   "cell_type": "markdown",
   "metadata": {},
   "source": [
    "In that stage, the only output asset is \"cmb_map\". Both the raw CMB and preprocessed CMB were given the name \"cmb_map\". Instead of changing those names to something particular (which comes with several headaches), I use the `orig_name` tag. This is a cue to look for `cmb_map` in the original stage."
   ]
  },
  {
   "cell_type": "markdown",
   "metadata": {},
   "source": [
    "## Executor"
   ]
  },
  {
   "cell_type": "markdown",
   "metadata": {},
   "source": [
    "Now I can "
   ]
  },
  {
   "cell_type": "code",
   "execution_count": null,
   "metadata": {
    "vscode": {
     "languageId": "plaintext"
    }
   },
   "outputs": [],
   "source": [
    "from cmbml.core.asset_handlers import Mover\n",
    "\n",
    "class FigureExecutor(BaseStageExecutor):\n",
    "    def __init__(self, cfg) -> None:\n",
    "        super().__init__(cfg, stage_str=\"figure\")\n",
    "\n",
    "        self.out_cmb_figure: Asset = self.assets_out[\"cmb_map_render\"]\n",
    "        out_cmb_figure_handler: Mover\n",
    "\n",
    "        self.in_cmb_map_sim: Asset = self.assets_in[\"cmb_map_sim\"]\n",
    "        self.in_cmb_map_pred: Asset = self.assets_in[\"cmb_map_pred\"]\n",
    "        in_maps_handler: HealpyMap\n",
    "\n",
    "        if self.override_sim_nums is None:\n",
    "            logger.warning(\"No particular sim indices specified. Outputs will be produced for all. This is not recommended.\")\n",
    "        self.min_max = self.get_plot_min_max()\n",
    "        self.fig_model_name = cfg.fig_model_name\n"
   ]
  }
 ],
 "metadata": {
  "language_info": {
   "name": "python"
  }
 },
 "nbformat": 4,
 "nbformat_minor": 2
}
